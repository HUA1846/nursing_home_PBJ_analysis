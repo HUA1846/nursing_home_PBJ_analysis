{
 "cells": [
  {
   "cell_type": "markdown",
   "id": "f2b94264",
   "metadata": {},
   "source": [
    "## Overview: Payroll Based Daily Nurse and Non_Nurse Staffinig In US Nursing Homes\n",
    "- Payroll Based Journal (PBJ) Daily Nurse and Non_Nurse Staffinig are data about nursing home staffing based on data submitted by nursing homes to CMS through the Payroll Based Journal (PBJ) system and daily resident census information based on Minimum Data Set (MDS) records. The data are open to pubic and can be found on this website: https://data.cms.gov/browse?q=PBJ&sortBy=newest.    \n",
    "- The staffing data are aggregated to the facility-day. All included facilities have one record for each day in the quarter. This results in 90-92 records records per facility for each quarter. The total number of records in the file will be equal to the number of included facilities multiplied by the number of calendar days in the quarter.\n",
    "\n",
    "### Data: 2020 Q4 PBJ Daily Nurse Staffing\n",
    "\n",
    "\n",
    "\n",
    "\n"
   ]
  },
  {
   "cell_type": "code",
   "execution_count": 53,
   "id": "c373c50f",
   "metadata": {},
   "outputs": [],
   "source": [
    "import pandas as pd\n",
    "import numpy as np\n",
    "import seaborn as sns\n",
    "from datetime import date\n",
    "import matplotlib.pyplot as plt\n",
    "from utils import check_null_values, staff_hours_per_person"
   ]
  },
  {
   "cell_type": "code",
   "execution_count": 54,
   "id": "4058798e",
   "metadata": {},
   "outputs": [],
   "source": [
    "q4_holidays = ['2020-11-23','2020-11-24','2020-11-25','2020-11-26', '2020-11-27', '2020-12-21',\n",
    "            '2020-12-22', '2020-12-23','2020-12-24', '2020-12-25', '2020-12-31']\n",
    "\n",
    "# There are totally 128 unique provider numbers from Ensign\n",
    "provider_df = pd.read_csv('Our_Provider_numbers.csv')\n",
    "provider_df.head()\n",
    "\n",
    "prov_nums = provider_df['our_provnum']\n",
    "ensign_prov_nums = prov_nums.squeeze().squeeze().tolist()"
   ]
  },
  {
   "cell_type": "markdown",
   "id": "154b9b1f",
   "metadata": {},
   "source": [
    "### Drop\n",
    "(1) Total nurse staffing <1.5 hours per resident per day; or  \n",
    "(2) Total nurse staffing > 12 hours per resident per day; or  \n",
    "(3) Nurse aide staffing > 5.25 hours per resident per day  \n",
    "(4) MDScensus = 0  "
   ]
  },
  {
   "cell_type": "code",
   "execution_count": 55,
   "id": "c95a760c",
   "metadata": {},
   "outputs": [],
   "source": [
    "def drop_by_hours_per_person(df):\n",
    "    df = df[df['total_hours'] > 1.5]\n",
    "    df = df[df['total_hours'] < 12.0]\n",
    "    df = df[df['Hrs_NAtrn'] < 5.25]\n",
    "    df = df[df['MDScensus'] > 0]\n",
    "    \n",
    "    return df"
   ]
  },
  {
   "cell_type": "code",
   "execution_count": 4,
   "id": "a21b28b7",
   "metadata": {},
   "outputs": [],
   "source": [
    "def add_features(origin_df, holidays, prov_nums):\n",
    "    df = origin_df.copy()\n",
    "    df = df[df['MDScensus'] > 0]\n",
    "    df['WorkDate'] = pd.to_datetime(df.WorkDate, format=\"%Y%m%d\")\n",
    "    df['year'] = df['WorkDate'].dt.year\n",
    "    df['month'] = df['WorkDate'].dt.month\n",
    "    df['day'] = df['WorkDate'].dt.day\n",
    "    df['day_name'] = df['WorkDate'].dt.day_name()\n",
    "    df['is_weekend'] = (df['WorkDate'].dt.dayofweek // 5 == 1).astype(bool)\n",
    "    df['is_holiday_week'] = df['WorkDate'].dt.date.astype('datetime64').isin(holidays)\n",
    "    df['IsEnsign'] = df['PROVNUM'].isin(prov_nums)\n",
    "    df['total_hours'] = df['Hrs_RNDON'] + df['Hrs_RNadmin'] + df['Hrs_RN'] + df['Hrs_LPNadmin'] + df['Hrs_LPN'] + df['Hrs_CNA'] + df['Hrs_NAtrn'] + df['Hrs_MedAide']\n",
    "    df['total_admin_hours'] = df['Hrs_RNDON'] + df['Hrs_RNadmin'] + df['Hrs_LPNadmin']\n",
    "    df['total_non_admin'] = df['Hrs_RN'] + df['Hrs_LPN'] + df['Hrs_CNA'] + df['Hrs_NAtrn'] + df['Hrs_MedAide']\n",
    "    df['total_ctr_hours'] = df['Hrs_RN_ctr'] + df['Hrs_LPNadmin_ctr'] + df['Hrs_LPN_ctr'] + df['Hrs_CNA_ctr'] + df['Hrs_NAtrn_ctr'] + df['Hrs_MedAide_ctr']\n",
    "    df['total_non_ctr'] = df['total_hours'] - df['total_ctr_hours']\n",
    "#     df.drop(df.iloc[:, 9:33], inplace = True, axis = 1)\n",
    "    return df"
   ]
  },
  {
   "cell_type": "code",
   "execution_count": 5,
   "id": "fb3203f1",
   "metadata": {},
   "outputs": [],
   "source": [
    "hour_features = ['total_hours', 'total_admin_hours', 'total_non_admin', 'total_ctr_hours', 'total_non_ctr','Hrs_RNDON', 'Hrs_RNDON_emp',\n",
    "       'Hrs_RNDON_ctr', 'Hrs_RNadmin', 'Hrs_RNadmin_emp', 'Hrs_RNadmin_ctr', 'Hrs_RN', 'Hrs_RN_emp', 'Hrs_RN_ctr', 'Hrs_LPNadmin',\n",
    "       'Hrs_LPNadmin_emp', 'Hrs_LPNadmin_ctr', 'Hrs_LPN', 'Hrs_LPN_emp', 'Hrs_LPN_ctr', 'Hrs_CNA', 'Hrs_CNA_emp', 'Hrs_CNA_ctr', 'Hrs_NAtrn',\n",
    "       'Hrs_NAtrn_emp', 'Hrs_NAtrn_ctr', 'Hrs_MedAide', 'Hrs_MedAide_emp','Hrs_MedAide_ctr']\n",
    "features = ['total_hours', 'total_admin_hours', 'total_non_admin', 'total_ctr_hours', 'total_non_ctr', 'Hrs_NAtrn']"
   ]
  },
  {
   "cell_type": "code",
   "execution_count": 56,
   "id": "4d5028e3",
   "metadata": {},
   "outputs": [
    {
     "name": "stderr",
     "output_type": "stream",
     "text": [
      "c:\\users\\hua13\\appdata\\local\\programs\\python\\python38\\lib\\site-packages\\IPython\\core\\interactiveshell.py:3169: DtypeWarning: Columns (0) have mixed types.Specify dtype option on import or set low_memory=False.\n",
      "  has_raised = await self.run_ast_nodes(code_ast.body, cell_name,\n"
     ]
    },
    {
     "data": {
      "text/html": [
       "<div>\n",
       "<style scoped>\n",
       "    .dataframe tbody tr th:only-of-type {\n",
       "        vertical-align: middle;\n",
       "    }\n",
       "\n",
       "    .dataframe tbody tr th {\n",
       "        vertical-align: top;\n",
       "    }\n",
       "\n",
       "    .dataframe thead th {\n",
       "        text-align: right;\n",
       "    }\n",
       "</style>\n",
       "<table border=\"1\" class=\"dataframe\">\n",
       "  <thead>\n",
       "    <tr style=\"text-align: right;\">\n",
       "      <th></th>\n",
       "      <th>PROVNUM</th>\n",
       "      <th>PROVNAME</th>\n",
       "      <th>CITY</th>\n",
       "      <th>STATE</th>\n",
       "      <th>COUNTY_NAME</th>\n",
       "      <th>COUNTY_FIPS</th>\n",
       "      <th>CY_Qtr</th>\n",
       "      <th>WorkDate</th>\n",
       "      <th>MDScensus</th>\n",
       "      <th>Hrs_RNDON</th>\n",
       "      <th>...</th>\n",
       "      <th>Hrs_LPN_ctr</th>\n",
       "      <th>Hrs_CNA</th>\n",
       "      <th>Hrs_CNA_emp</th>\n",
       "      <th>Hrs_CNA_ctr</th>\n",
       "      <th>Hrs_NAtrn</th>\n",
       "      <th>Hrs_NAtrn_emp</th>\n",
       "      <th>Hrs_NAtrn_ctr</th>\n",
       "      <th>Hrs_MedAide</th>\n",
       "      <th>Hrs_MedAide_emp</th>\n",
       "      <th>Hrs_MedAide_ctr</th>\n",
       "    </tr>\n",
       "  </thead>\n",
       "  <tbody>\n",
       "    <tr>\n",
       "      <th>0</th>\n",
       "      <td>15009</td>\n",
       "      <td>BURNS NURSING HOME, INC.</td>\n",
       "      <td>RUSSELLVILLE</td>\n",
       "      <td>AL</td>\n",
       "      <td>Franklin</td>\n",
       "      <td>59</td>\n",
       "      <td>2020Q4</td>\n",
       "      <td>20201001</td>\n",
       "      <td>52</td>\n",
       "      <td>0.00</td>\n",
       "      <td>...</td>\n",
       "      <td>0.0</td>\n",
       "      <td>145.73</td>\n",
       "      <td>138.23</td>\n",
       "      <td>7.50</td>\n",
       "      <td>7.75</td>\n",
       "      <td>7.75</td>\n",
       "      <td>0.0</td>\n",
       "      <td>0.0</td>\n",
       "      <td>0.0</td>\n",
       "      <td>0.0</td>\n",
       "    </tr>\n",
       "    <tr>\n",
       "      <th>1</th>\n",
       "      <td>15009</td>\n",
       "      <td>BURNS NURSING HOME, INC.</td>\n",
       "      <td>RUSSELLVILLE</td>\n",
       "      <td>AL</td>\n",
       "      <td>Franklin</td>\n",
       "      <td>59</td>\n",
       "      <td>2020Q4</td>\n",
       "      <td>20201002</td>\n",
       "      <td>52</td>\n",
       "      <td>7.00</td>\n",
       "      <td>...</td>\n",
       "      <td>0.0</td>\n",
       "      <td>146.21</td>\n",
       "      <td>138.46</td>\n",
       "      <td>7.75</td>\n",
       "      <td>0.00</td>\n",
       "      <td>0.00</td>\n",
       "      <td>0.0</td>\n",
       "      <td>0.0</td>\n",
       "      <td>0.0</td>\n",
       "      <td>0.0</td>\n",
       "    </tr>\n",
       "    <tr>\n",
       "      <th>2</th>\n",
       "      <td>15009</td>\n",
       "      <td>BURNS NURSING HOME, INC.</td>\n",
       "      <td>RUSSELLVILLE</td>\n",
       "      <td>AL</td>\n",
       "      <td>Franklin</td>\n",
       "      <td>59</td>\n",
       "      <td>2020Q4</td>\n",
       "      <td>20201003</td>\n",
       "      <td>52</td>\n",
       "      <td>0.00</td>\n",
       "      <td>...</td>\n",
       "      <td>0.0</td>\n",
       "      <td>140.66</td>\n",
       "      <td>140.66</td>\n",
       "      <td>0.00</td>\n",
       "      <td>0.00</td>\n",
       "      <td>0.00</td>\n",
       "      <td>0.0</td>\n",
       "      <td>0.0</td>\n",
       "      <td>0.0</td>\n",
       "      <td>0.0</td>\n",
       "    </tr>\n",
       "    <tr>\n",
       "      <th>3</th>\n",
       "      <td>15009</td>\n",
       "      <td>BURNS NURSING HOME, INC.</td>\n",
       "      <td>RUSSELLVILLE</td>\n",
       "      <td>AL</td>\n",
       "      <td>Franklin</td>\n",
       "      <td>59</td>\n",
       "      <td>2020Q4</td>\n",
       "      <td>20201004</td>\n",
       "      <td>51</td>\n",
       "      <td>0.00</td>\n",
       "      <td>...</td>\n",
       "      <td>0.0</td>\n",
       "      <td>115.95</td>\n",
       "      <td>108.45</td>\n",
       "      <td>7.50</td>\n",
       "      <td>0.00</td>\n",
       "      <td>0.00</td>\n",
       "      <td>0.0</td>\n",
       "      <td>0.0</td>\n",
       "      <td>0.0</td>\n",
       "      <td>0.0</td>\n",
       "    </tr>\n",
       "    <tr>\n",
       "      <th>4</th>\n",
       "      <td>15009</td>\n",
       "      <td>BURNS NURSING HOME, INC.</td>\n",
       "      <td>RUSSELLVILLE</td>\n",
       "      <td>AL</td>\n",
       "      <td>Franklin</td>\n",
       "      <td>59</td>\n",
       "      <td>2020Q4</td>\n",
       "      <td>20201005</td>\n",
       "      <td>51</td>\n",
       "      <td>8.25</td>\n",
       "      <td>...</td>\n",
       "      <td>0.0</td>\n",
       "      <td>154.85</td>\n",
       "      <td>143.10</td>\n",
       "      <td>11.75</td>\n",
       "      <td>7.75</td>\n",
       "      <td>7.75</td>\n",
       "      <td>0.0</td>\n",
       "      <td>0.0</td>\n",
       "      <td>0.0</td>\n",
       "      <td>0.0</td>\n",
       "    </tr>\n",
       "  </tbody>\n",
       "</table>\n",
       "<p>5 rows × 33 columns</p>\n",
       "</div>"
      ],
      "text/plain": [
       "  PROVNUM                  PROVNAME          CITY STATE COUNTY_NAME  \\\n",
       "0   15009  BURNS NURSING HOME, INC.  RUSSELLVILLE    AL    Franklin   \n",
       "1   15009  BURNS NURSING HOME, INC.  RUSSELLVILLE    AL    Franklin   \n",
       "2   15009  BURNS NURSING HOME, INC.  RUSSELLVILLE    AL    Franklin   \n",
       "3   15009  BURNS NURSING HOME, INC.  RUSSELLVILLE    AL    Franklin   \n",
       "4   15009  BURNS NURSING HOME, INC.  RUSSELLVILLE    AL    Franklin   \n",
       "\n",
       "   COUNTY_FIPS  CY_Qtr  WorkDate  MDScensus  Hrs_RNDON  ...  Hrs_LPN_ctr  \\\n",
       "0           59  2020Q4  20201001         52       0.00  ...          0.0   \n",
       "1           59  2020Q4  20201002         52       7.00  ...          0.0   \n",
       "2           59  2020Q4  20201003         52       0.00  ...          0.0   \n",
       "3           59  2020Q4  20201004         51       0.00  ...          0.0   \n",
       "4           59  2020Q4  20201005         51       8.25  ...          0.0   \n",
       "\n",
       "   Hrs_CNA  Hrs_CNA_emp  Hrs_CNA_ctr  Hrs_NAtrn  Hrs_NAtrn_emp  Hrs_NAtrn_ctr  \\\n",
       "0   145.73       138.23         7.50       7.75           7.75            0.0   \n",
       "1   146.21       138.46         7.75       0.00           0.00            0.0   \n",
       "2   140.66       140.66         0.00       0.00           0.00            0.0   \n",
       "3   115.95       108.45         7.50       0.00           0.00            0.0   \n",
       "4   154.85       143.10        11.75       7.75           7.75            0.0   \n",
       "\n",
       "   Hrs_MedAide  Hrs_MedAide_emp  Hrs_MedAide_ctr  \n",
       "0          0.0              0.0              0.0  \n",
       "1          0.0              0.0              0.0  \n",
       "2          0.0              0.0              0.0  \n",
       "3          0.0              0.0              0.0  \n",
       "4          0.0              0.0              0.0  \n",
       "\n",
       "[5 rows x 33 columns]"
      ]
     },
     "execution_count": 56,
     "metadata": {},
     "output_type": "execute_result"
    }
   ],
   "source": [
    "nursing_df = pd.read_csv('PBJ_Daily_Nurse_Staffing_CY_2020Q4.csv')\n",
    "nursing_df.head()"
   ]
  },
  {
   "cell_type": "code",
   "execution_count": 147,
   "id": "3e038eb5",
   "metadata": {},
   "outputs": [
    {
     "data": {
      "text/html": [
       "<div>\n",
       "<style scoped>\n",
       "    .dataframe tbody tr th:only-of-type {\n",
       "        vertical-align: middle;\n",
       "    }\n",
       "\n",
       "    .dataframe tbody tr th {\n",
       "        vertical-align: top;\n",
       "    }\n",
       "\n",
       "    .dataframe thead th {\n",
       "        text-align: right;\n",
       "    }\n",
       "</style>\n",
       "<table border=\"1\" class=\"dataframe\">\n",
       "  <thead>\n",
       "    <tr style=\"text-align: right;\">\n",
       "      <th></th>\n",
       "      <th>total_hours</th>\n",
       "      <th>total_admin_hours</th>\n",
       "      <th>total_non_admin</th>\n",
       "      <th>total_ctr_hours</th>\n",
       "      <th>total_non_ctr</th>\n",
       "      <th>Hrs_NAtrn</th>\n",
       "    </tr>\n",
       "  </thead>\n",
       "  <tbody>\n",
       "    <tr>\n",
       "      <th>count</th>\n",
       "      <td>10672.000000</td>\n",
       "      <td>10672.000000</td>\n",
       "      <td>10672.000000</td>\n",
       "      <td>10672.000000</td>\n",
       "      <td>10672.000000</td>\n",
       "      <td>10672.000000</td>\n",
       "    </tr>\n",
       "    <tr>\n",
       "      <th>mean</th>\n",
       "      <td>279.750360</td>\n",
       "      <td>22.169409</td>\n",
       "      <td>257.580951</td>\n",
       "      <td>2.813189</td>\n",
       "      <td>276.937171</td>\n",
       "      <td>10.060573</td>\n",
       "    </tr>\n",
       "    <tr>\n",
       "      <th>std</th>\n",
       "      <td>119.988771</td>\n",
       "      <td>16.368282</td>\n",
       "      <td>114.839496</td>\n",
       "      <td>9.496873</td>\n",
       "      <td>119.397655</td>\n",
       "      <td>16.495480</td>\n",
       "    </tr>\n",
       "    <tr>\n",
       "      <th>min</th>\n",
       "      <td>56.640000</td>\n",
       "      <td>0.000000</td>\n",
       "      <td>56.640000</td>\n",
       "      <td>0.000000</td>\n",
       "      <td>56.640000</td>\n",
       "      <td>0.000000</td>\n",
       "    </tr>\n",
       "    <tr>\n",
       "      <th>25%</th>\n",
       "      <td>198.972500</td>\n",
       "      <td>8.000000</td>\n",
       "      <td>181.767500</td>\n",
       "      <td>0.000000</td>\n",
       "      <td>196.777500</td>\n",
       "      <td>0.000000</td>\n",
       "    </tr>\n",
       "    <tr>\n",
       "      <th>50%</th>\n",
       "      <td>262.885000</td>\n",
       "      <td>24.000000</td>\n",
       "      <td>239.495000</td>\n",
       "      <td>0.000000</td>\n",
       "      <td>260.260000</td>\n",
       "      <td>0.000000</td>\n",
       "    </tr>\n",
       "    <tr>\n",
       "      <th>75%</th>\n",
       "      <td>331.882500</td>\n",
       "      <td>32.070000</td>\n",
       "      <td>303.210000</td>\n",
       "      <td>0.000000</td>\n",
       "      <td>328.790000</td>\n",
       "      <td>15.250000</td>\n",
       "    </tr>\n",
       "    <tr>\n",
       "      <th>max</th>\n",
       "      <td>918.600000</td>\n",
       "      <td>89.500000</td>\n",
       "      <td>864.320000</td>\n",
       "      <td>110.170000</td>\n",
       "      <td>918.600000</td>\n",
       "      <td>134.270000</td>\n",
       "    </tr>\n",
       "  </tbody>\n",
       "</table>\n",
       "</div>"
      ],
      "text/plain": [
       "        total_hours  total_admin_hours  total_non_admin  total_ctr_hours  \\\n",
       "count  10672.000000       10672.000000     10672.000000     10672.000000   \n",
       "mean     279.750360          22.169409       257.580951         2.813189   \n",
       "std      119.988771          16.368282       114.839496         9.496873   \n",
       "min       56.640000           0.000000        56.640000         0.000000   \n",
       "25%      198.972500           8.000000       181.767500         0.000000   \n",
       "50%      262.885000          24.000000       239.495000         0.000000   \n",
       "75%      331.882500          32.070000       303.210000         0.000000   \n",
       "max      918.600000          89.500000       864.320000       110.170000   \n",
       "\n",
       "       total_non_ctr     Hrs_NAtrn  \n",
       "count   10672.000000  10672.000000  \n",
       "mean      276.937171     10.060573  \n",
       "std       119.397655     16.495480  \n",
       "min        56.640000      0.000000  \n",
       "25%       196.777500      0.000000  \n",
       "50%       260.260000      0.000000  \n",
       "75%       328.790000     15.250000  \n",
       "max       918.600000    134.270000  "
      ]
     },
     "execution_count": 147,
     "metadata": {},
     "output_type": "execute_result"
    }
   ],
   "source": [
    "ensign_nurse_df = all_nursing_df[all_nursing_df[\"IsEnsign\"] == True]\n",
    "ensign_nurse_df[features].describe()"
   ]
  },
  {
   "cell_type": "code",
   "execution_count": 146,
   "id": "90439701",
   "metadata": {},
   "outputs": [
    {
     "data": {
      "image/png": "[encoded data removed]",
      "text/plain": [
       "<Figure size 1440x576 with 1 Axes>"
      ]
     },
     "metadata": {},
     "output_type": "display_data"
    }
   ],
   "source": [
    "sns.set(rc={\"figure.figsize\":(20, 8)})\n",
    "nursing_facilities_df = nursing_df.groupby('PROVNUM').first()\n",
    "ax = sns.countplot(x=\"STATE\", data=nursing_facilities_df, color='b',\n",
    "                   order = nursing_facilities_df['STATE'].value_counts().index)\n",
    "ax.set_title('Numbers of Facilities By State', fontsize=20);"
   ]
  },
  {
   "cell_type": "markdown",
   "id": "2f42dc97",
   "metadata": {},
   "source": [
    "### Texas has the most nursing homes, followed by California. Both states have more than 1000 nursing homes.\n",
    "### The third is Ohio, has more than 900 nursing homes."
   ]
  },
  {
   "cell_type": "code",
   "execution_count": 148,
   "id": "25847712",
   "metadata": {},
   "outputs": [
    {
     "data": {
      "image/png": "[encoded data removed]",
      "text/plain": [
       "<Figure size 864x576 with 1 Axes>"
      ]
     },
     "metadata": {},
     "output_type": "display_data"
    }
   ],
   "source": [
    "ensign_facility_df = ensign_nurse_df.groupby('PROVNUM').first()\n",
    "sns.set(rc={\"figure.figsize\":(12, 8)})\n",
    "ax = sns.countplot(x=\"STATE\", data=ensign_facility_df, color='b',\n",
    "                   order = ensign_facility_df['STATE'].value_counts().index)\n",
    "ax.set_title('Numbers of Ensign Facilities By State', fontsize=20)\n",
    "ax.set(ylim=(0, 60))\n",
    "for p in ax.patches:\n",
    "    ax.annotate(f'\\n{p.get_height()}', (p.get_x()+0.4, p.get_height() + 5.0), ha='center', va='top', color='black', size=18)"
   ]
  },
  {
   "cell_type": "markdown",
   "id": "4d3cd488",
   "metadata": {},
   "source": [
    "### A total of 116 Ensign nursing homes are included in the data. That's of 53% of all Ensign's providers.\n",
    "### Ensign owns about 0.8% of the nursing homes in the US.\n",
    "### The Ensign nursing home facilities are in eight different states: TX, CA, ID, CO, IA, SC, WI, and AZ\n",
    "### Most of Ensign's nursing home facilities are in Texas (47), and California (37)"
   ]
  },
  {
   "cell_type": "code",
   "execution_count": 153,
   "id": "ef322f76",
   "metadata": {},
   "outputs": [
    {
     "data": {
      "text/plain": [
       "0.7879364216818366"
      ]
     },
     "execution_count": 153,
     "metadata": {},
     "output_type": "execute_result"
    }
   ],
   "source": [
    "len(ensign_facility_df)/len(nursing_facilities_df) * 100"
   ]
  },
  {
   "cell_type": "code",
   "execution_count": 158,
   "id": "e2cac0b5",
   "metadata": {},
   "outputs": [
    {
     "data": {
      "text/plain": [
       "218"
      ]
     },
     "execution_count": 158,
     "metadata": {},
     "output_type": "execute_result"
    }
   ],
   "source": [
    "len(ensign_prov_nums)"
   ]
  },
  {
   "cell_type": "code",
   "execution_count": 161,
   "id": "fe2415e3",
   "metadata": {},
   "outputs": [
    {
     "data": {
      "text/plain": [
       "116"
      ]
     },
     "execution_count": 161,
     "metadata": {},
     "output_type": "execute_result"
    }
   ],
   "source": [
    "len(ensign_facility_df)"
   ]
  },
  {
   "cell_type": "code",
   "execution_count": 160,
   "id": "b43a57d5",
   "metadata": {},
   "outputs": [
    {
     "data": {
      "text/plain": [
       "0.5321100917431193"
      ]
     },
     "execution_count": 160,
     "metadata": {},
     "output_type": "execute_result"
    }
   ],
   "source": [
    "len(ensign_facility_df)/len(ensign_prov_nums)"
   ]
  },
  {
   "cell_type": "markdown",
   "id": "f0563789",
   "metadata": {},
   "source": [
    "#### Columns with high zero values: \n",
    "       'Hrs_RNDON', 'Hrs_RNDON_emp', 'Hrs_RNDON_ctr', 'Hrs_RNadmin',  \n",
    "       'Hrs_RNadmin_emp', 'Hrs_RNadmin_ctr', 'Hrs_RN_ctr', 'Hrs_LPNadmin',  \n",
    "       'Hrs_LPNadmin_emp', 'Hrs_LPNadmin_ctr', 'Hrs_LPN_ctr', 'Hrs_CNA_ctr',  \n",
    "       'Hrs_NAtrn', 'Hrs_NAtrn_emp', 'Hrs_NAtrn_ctr', 'Hrs_MedAide',  \n",
    "       'Hrs_MedAide_emp', 'Hrs_MedAide_ctr'  "
   ]
  },
  {
   "cell_type": "code",
   "execution_count": 10,
   "id": "e0ddca72",
   "metadata": {},
   "outputs": [
    {
     "data": {
      "text/plain": [
       "Index(['columns', 'percent_null', 'percent_zero'], dtype='object')"
      ]
     },
     "execution_count": 10,
     "metadata": {},
     "output_type": "execute_result"
    }
   ],
   "source": [
    "nurse_null_df = check_null_values(nursing_df)\n",
    "nurse_null_df[nurse_null_df['percent_zero'] > 39.0].columns"
   ]
  },
  {
   "cell_type": "code",
   "execution_count": 57,
   "id": "8e17af4e",
   "metadata": {},
   "outputs": [
    {
     "data": {
      "text/html": [
       "<div>\n",
       "<style scoped>\n",
       "    .dataframe tbody tr th:only-of-type {\n",
       "        vertical-align: middle;\n",
       "    }\n",
       "\n",
       "    .dataframe tbody tr th {\n",
       "        vertical-align: top;\n",
       "    }\n",
       "\n",
       "    .dataframe thead th {\n",
       "        text-align: right;\n",
       "    }\n",
       "</style>\n",
       "<table border=\"1\" class=\"dataframe\">\n",
       "  <thead>\n",
       "    <tr style=\"text-align: right;\">\n",
       "      <th></th>\n",
       "      <th>total_hours</th>\n",
       "      <th>total_admin_hours</th>\n",
       "      <th>total_non_admin</th>\n",
       "      <th>total_ctr_hours</th>\n",
       "      <th>total_non_ctr</th>\n",
       "      <th>Hrs_NAtrn</th>\n",
       "    </tr>\n",
       "  </thead>\n",
       "  <tbody>\n",
       "    <tr>\n",
       "      <th>count</th>\n",
       "      <td>1.350550e+06</td>\n",
       "      <td>1.350550e+06</td>\n",
       "      <td>1.350550e+06</td>\n",
       "      <td>1.350550e+06</td>\n",
       "      <td>1.350550e+06</td>\n",
       "      <td>1.350550e+06</td>\n",
       "    </tr>\n",
       "    <tr>\n",
       "      <th>mean</th>\n",
       "      <td>2.919040e+02</td>\n",
       "      <td>2.191674e+01</td>\n",
       "      <td>2.699872e+02</td>\n",
       "      <td>1.321208e+01</td>\n",
       "      <td>2.786919e+02</td>\n",
       "      <td>5.490775e+00</td>\n",
       "    </tr>\n",
       "    <tr>\n",
       "      <th>std</th>\n",
       "      <td>1.800604e+02</td>\n",
       "      <td>2.226532e+01</td>\n",
       "      <td>1.689143e+02</td>\n",
       "      <td>3.627630e+01</td>\n",
       "      <td>1.729659e+02</td>\n",
       "      <td>1.415226e+01</td>\n",
       "    </tr>\n",
       "    <tr>\n",
       "      <th>min</th>\n",
       "      <td>0.000000e+00</td>\n",
       "      <td>0.000000e+00</td>\n",
       "      <td>0.000000e+00</td>\n",
       "      <td>0.000000e+00</td>\n",
       "      <td>0.000000e+00</td>\n",
       "      <td>0.000000e+00</td>\n",
       "    </tr>\n",
       "    <tr>\n",
       "      <th>25%</th>\n",
       "      <td>1.750000e+02</td>\n",
       "      <td>5.710000e+00</td>\n",
       "      <td>1.607500e+02</td>\n",
       "      <td>0.000000e+00</td>\n",
       "      <td>1.663000e+02</td>\n",
       "      <td>0.000000e+00</td>\n",
       "    </tr>\n",
       "    <tr>\n",
       "      <th>50%</th>\n",
       "      <td>2.562500e+02</td>\n",
       "      <td>1.650000e+01</td>\n",
       "      <td>2.364000e+02</td>\n",
       "      <td>0.000000e+00</td>\n",
       "      <td>2.450000e+02</td>\n",
       "      <td>0.000000e+00</td>\n",
       "    </tr>\n",
       "    <tr>\n",
       "      <th>75%</th>\n",
       "      <td>3.622075e+02</td>\n",
       "      <td>3.200000e+01</td>\n",
       "      <td>3.352500e+02</td>\n",
       "      <td>8.000000e+00</td>\n",
       "      <td>3.477275e+02</td>\n",
       "      <td>0.000000e+00</td>\n",
       "    </tr>\n",
       "    <tr>\n",
       "      <th>max</th>\n",
       "      <td>4.316830e+03</td>\n",
       "      <td>4.290000e+02</td>\n",
       "      <td>3.937330e+03</td>\n",
       "      <td>1.137730e+03</td>\n",
       "      <td>4.316830e+03</td>\n",
       "      <td>2.772500e+02</td>\n",
       "    </tr>\n",
       "  </tbody>\n",
       "</table>\n",
       "</div>"
      ],
      "text/plain": [
       "        total_hours  total_admin_hours  total_non_admin  total_ctr_hours  \\\n",
       "count  1.350550e+06       1.350550e+06     1.350550e+06     1.350550e+06   \n",
       "mean   2.919040e+02       2.191674e+01     2.699872e+02     1.321208e+01   \n",
       "std    1.800604e+02       2.226532e+01     1.689143e+02     3.627630e+01   \n",
       "min    0.000000e+00       0.000000e+00     0.000000e+00     0.000000e+00   \n",
       "25%    1.750000e+02       5.710000e+00     1.607500e+02     0.000000e+00   \n",
       "50%    2.562500e+02       1.650000e+01     2.364000e+02     0.000000e+00   \n",
       "75%    3.622075e+02       3.200000e+01     3.352500e+02     8.000000e+00   \n",
       "max    4.316830e+03       4.290000e+02     3.937330e+03     1.137730e+03   \n",
       "\n",
       "       total_non_ctr     Hrs_NAtrn  \n",
       "count   1.350550e+06  1.350550e+06  \n",
       "mean    2.786919e+02  5.490775e+00  \n",
       "std     1.729659e+02  1.415226e+01  \n",
       "min     0.000000e+00  0.000000e+00  \n",
       "25%     1.663000e+02  0.000000e+00  \n",
       "50%     2.450000e+02  0.000000e+00  \n",
       "75%     3.477275e+02  0.000000e+00  \n",
       "max     4.316830e+03  2.772500e+02  "
      ]
     },
     "execution_count": 57,
     "metadata": {},
     "output_type": "execute_result"
    }
   ],
   "source": [
    "all_nursing_df = add_features(nursing_df, q4_holidays, ensign_prov_nums)\n",
    "all_nursing_df[features].describe()"
   ]
  },
  {
   "cell_type": "code",
   "execution_count": 85,
   "id": "23b35d2a",
   "metadata": {},
   "outputs": [],
   "source": [
    "def compare_data_distribution(df1, df2, metric):\n",
    "    fig, axes = plt.subplots(1, 2, figsize=(12,4))\n",
    "    df1.hist(metric, bins=np.arange(0, df1[metric].max() + 10, 10) , ax=axes[0])\n",
    "    axes[0].set_title('USA')\n",
    "    axes[0].set_xlabel(metric)\n",
    "    df2.hist(metric, bins=np.arange(0, df2[metric].max() + 10, 10) , ax=axes[1])\n",
    "    axes[1].set_title('Ensign')\n",
    "    axes[1].set_xlabel(metric);"
   ]
  },
  {
   "cell_type": "code",
   "execution_count": 78,
   "id": "c99490f5",
   "metadata": {},
   "outputs": [
    {
     "data": {
      "image/png": "[encoded data removed]",
      "text/plain": [
       "<Figure size 864x288 with 2 Axes>"
      ]
     },
     "metadata": {
      "needs_background": "light"
     },
     "output_type": "display_data"
    }
   ],
   "source": [
    "fig, axes = plt.subplots(1, 2, figsize=(12,4))\n",
    "all_nursing_df.hist('MDScensus', bins=np.arange(0, all_nursing_df['MDScensus'].max() + 10, 10) , ax=axes[0])\n",
    "axes[0].set_title('USA Daily Census')\n",
    "axes[0].set_xlabel('census')\n",
    "ensign_nurse_df.hist('MDScensus', bins=np.arange(0, ensign_nurse_df['MDScensus'].max() + 10, 10) , ax=axes[1])\n",
    "axes[1].set_title('Ensign Daily Census')\n",
    "axes[1].set_xlabel('census');"
   ]
  },
  {
   "cell_type": "markdown",
   "id": "694bdb35",
   "metadata": {},
   "source": [
    "### Most facilities in the US have daily census less than 200.   \n",
    "### All Ensign facilities have daily cencus < 250.   \n",
    "### The variations could be related to the facility's size, but we don't have information about it.  "
   ]
  },
  {
   "cell_type": "code",
   "execution_count": 79,
   "id": "25585d88",
   "metadata": {},
   "outputs": [
    {
     "data": {
      "image/png": "[encoded data removed]",
      "text/plain": [
       "<Figure size 864x288 with 2 Axes>"
      ]
     },
     "metadata": {
      "needs_background": "light"
     },
     "output_type": "display_data"
    }
   ],
   "source": [
    "fig, axes = plt.subplots(1, 2, figsize=(12,4))\n",
    "all_nursing_df.hist('total_hours', bins=np.arange(0, all_nursing_df['total_hours'].max() + 10, 10) , ax=axes[0])\n",
    "axes[0].set_title('USA')\n",
    "axes[0].set_xlabel('total nursing staff hours/day')\n",
    "ensign_nurse_df.hist('total_hours', bins=np.arange(0, ensign_nurse_df['total_hours'].max() + 10, 10) , ax=axes[1])\n",
    "axes[1].set_title('Ensign')\n",
    "axes[1].set_xlabel('total nursing staff hours/day');"
   ]
  },
  {
   "cell_type": "markdown",
   "id": "4e0a7008",
   "metadata": {},
   "source": [
    "### Most US facilities in the US have total nursing staff hours less than 1000 hours/day\n",
    "### Most Ensing facilities have total nursing staff hours less than 800 hours/day\n",
    "### Again, the variations could be due to facility size and census"
   ]
  },
  {
   "cell_type": "code",
   "execution_count": 80,
   "id": "396285a0",
   "metadata": {},
   "outputs": [],
   "source": [
    "# ax = all_nursing_df.plot.hexbin(x='MDScensus', y='total_hours', gridsize=10, sharex=False, figsize=(5,4))"
   ]
  },
  {
   "cell_type": "code",
   "execution_count": 84,
   "id": "7df07f83",
   "metadata": {},
   "outputs": [
    {
     "data": {
      "text/plain": [
       "1336434"
      ]
     },
     "execution_count": 84,
     "metadata": {},
     "output_type": "execute_result"
    }
   ],
   "source": [
    "# drop outliers\n",
    "nurse_staff_df = all_nursing_df[all_nursing_df['MDScensus'] < 250]\n",
    "nurse_staff_df = nurse_staff_df[nurse_staff_df['total_hours'] < 1000]\n",
    "len(nurse_staff_df)"
   ]
  },
  {
   "cell_type": "code",
   "execution_count": 86,
   "id": "9146308f",
   "metadata": {},
   "outputs": [
    {
     "data": {
      "image/png": "[encoded data removed]",
      "text/plain": [
       "<Figure size 864x288 with 2 Axes>"
      ]
     },
     "metadata": {
      "needs_background": "light"
     },
     "output_type": "display_data"
    }
   ],
   "source": [
    "compare_data_distribution(nurse_staff_df, ensign_nurse_df, 'MDScensus')"
   ]
  },
  {
   "cell_type": "code",
   "execution_count": 87,
   "id": "7a2340ef",
   "metadata": {},
   "outputs": [
    {
     "data": {
      "image/png": "[encoded data removed]",
      "text/plain": [
       "<Figure size 864x288 with 2 Axes>"
      ]
     },
     "metadata": {
      "needs_background": "light"
     },
     "output_type": "display_data"
    }
   ],
   "source": [
    "compare_data_distribution(nurse_staff_df, ensign_nurse_df, 'total_hours')"
   ]
  },
  {
   "cell_type": "code",
   "execution_count": 88,
   "id": "b8e60460",
   "metadata": {},
   "outputs": [
    {
     "data": {
      "text/html": [
       "<div>\n",
       "<style scoped>\n",
       "    .dataframe tbody tr th:only-of-type {\n",
       "        vertical-align: middle;\n",
       "    }\n",
       "\n",
       "    .dataframe tbody tr th {\n",
       "        vertical-align: top;\n",
       "    }\n",
       "\n",
       "    .dataframe thead th {\n",
       "        text-align: right;\n",
       "    }\n",
       "</style>\n",
       "<table border=\"1\" class=\"dataframe\">\n",
       "  <thead>\n",
       "    <tr style=\"text-align: right;\">\n",
       "      <th></th>\n",
       "      <th>total_hours</th>\n",
       "      <th>total_admin_hours</th>\n",
       "      <th>total_non_admin</th>\n",
       "      <th>total_ctr_hours</th>\n",
       "      <th>total_non_ctr</th>\n",
       "      <th>Hrs_NAtrn</th>\n",
       "    </tr>\n",
       "  </thead>\n",
       "  <tbody>\n",
       "    <tr>\n",
       "      <th>count</th>\n",
       "      <td>1.336434e+06</td>\n",
       "      <td>1.336434e+06</td>\n",
       "      <td>1.336434e+06</td>\n",
       "      <td>1.336434e+06</td>\n",
       "      <td>1.336434e+06</td>\n",
       "      <td>1.336434e+06</td>\n",
       "    </tr>\n",
       "    <tr>\n",
       "      <th>mean</th>\n",
       "      <td>4.101027e+00</td>\n",
       "      <td>3.283848e-01</td>\n",
       "      <td>3.772693e+00</td>\n",
       "      <td>1.716177e-01</td>\n",
       "      <td>3.929413e+00</td>\n",
       "      <td>7.775167e-02</td>\n",
       "    </tr>\n",
       "    <tr>\n",
       "      <th>std</th>\n",
       "      <td>1.576994e+00</td>\n",
       "      <td>3.382902e-01</td>\n",
       "      <td>1.426760e+00</td>\n",
       "      <td>4.159716e-01</td>\n",
       "      <td>1.597343e+00</td>\n",
       "      <td>1.963288e-01</td>\n",
       "    </tr>\n",
       "    <tr>\n",
       "      <th>min</th>\n",
       "      <td>0.000000e+00</td>\n",
       "      <td>0.000000e+00</td>\n",
       "      <td>0.000000e+00</td>\n",
       "      <td>0.000000e+00</td>\n",
       "      <td>0.000000e+00</td>\n",
       "      <td>0.000000e+00</td>\n",
       "    </tr>\n",
       "    <tr>\n",
       "      <th>25%</th>\n",
       "      <td>3.340000e+00</td>\n",
       "      <td>7.000000e-02</td>\n",
       "      <td>3.090000e+00</td>\n",
       "      <td>0.000000e+00</td>\n",
       "      <td>3.160000e+00</td>\n",
       "      <td>0.000000e+00</td>\n",
       "    </tr>\n",
       "    <tr>\n",
       "      <th>50%</th>\n",
       "      <td>3.910000e+00</td>\n",
       "      <td>2.900000e-01</td>\n",
       "      <td>3.610000e+00</td>\n",
       "      <td>0.000000e+00</td>\n",
       "      <td>3.770000e+00</td>\n",
       "      <td>0.000000e+00</td>\n",
       "    </tr>\n",
       "    <tr>\n",
       "      <th>75%</th>\n",
       "      <td>4.610000e+00</td>\n",
       "      <td>4.900000e-01</td>\n",
       "      <td>4.230000e+00</td>\n",
       "      <td>1.300000e-01</td>\n",
       "      <td>4.470000e+00</td>\n",
       "      <td>0.000000e+00</td>\n",
       "    </tr>\n",
       "    <tr>\n",
       "      <th>max</th>\n",
       "      <td>2.446000e+02</td>\n",
       "      <td>4.000000e+01</td>\n",
       "      <td>2.218200e+02</td>\n",
       "      <td>2.000000e+01</td>\n",
       "      <td>2.446000e+02</td>\n",
       "      <td>4.800000e+00</td>\n",
       "    </tr>\n",
       "  </tbody>\n",
       "</table>\n",
       "</div>"
      ],
      "text/plain": [
       "        total_hours  total_admin_hours  total_non_admin  total_ctr_hours  \\\n",
       "count  1.336434e+06       1.336434e+06     1.336434e+06     1.336434e+06   \n",
       "mean   4.101027e+00       3.283848e-01     3.772693e+00     1.716177e-01   \n",
       "std    1.576994e+00       3.382902e-01     1.426760e+00     4.159716e-01   \n",
       "min    0.000000e+00       0.000000e+00     0.000000e+00     0.000000e+00   \n",
       "25%    3.340000e+00       7.000000e-02     3.090000e+00     0.000000e+00   \n",
       "50%    3.910000e+00       2.900000e-01     3.610000e+00     0.000000e+00   \n",
       "75%    4.610000e+00       4.900000e-01     4.230000e+00     1.300000e-01   \n",
       "max    2.446000e+02       4.000000e+01     2.218200e+02     2.000000e+01   \n",
       "\n",
       "       total_non_ctr     Hrs_NAtrn  \n",
       "count   1.336434e+06  1.336434e+06  \n",
       "mean    3.929413e+00  7.775167e-02  \n",
       "std     1.597343e+00  1.963288e-01  \n",
       "min     0.000000e+00  0.000000e+00  \n",
       "25%     3.160000e+00  0.000000e+00  \n",
       "50%     3.770000e+00  0.000000e+00  \n",
       "75%     4.470000e+00  0.000000e+00  \n",
       "max     2.446000e+02  4.800000e+00  "
      ]
     },
     "execution_count": 88,
     "metadata": {},
     "output_type": "execute_result"
    }
   ],
   "source": [
    "per_patient_nurse_df = staff_hours_per_person(nurse_staff_df, hour_features)\n",
    "per_patient_nurse_df[features].describe()"
   ]
  },
  {
   "cell_type": "code",
   "execution_count": 89,
   "id": "86d3301d",
   "metadata": {},
   "outputs": [
    {
     "data": {
      "text/html": [
       "<div>\n",
       "<style scoped>\n",
       "    .dataframe tbody tr th:only-of-type {\n",
       "        vertical-align: middle;\n",
       "    }\n",
       "\n",
       "    .dataframe tbody tr th {\n",
       "        vertical-align: top;\n",
       "    }\n",
       "\n",
       "    .dataframe thead th {\n",
       "        text-align: right;\n",
       "    }\n",
       "</style>\n",
       "<table border=\"1\" class=\"dataframe\">\n",
       "  <thead>\n",
       "    <tr style=\"text-align: right;\">\n",
       "      <th></th>\n",
       "      <th>total_hours</th>\n",
       "      <th>total_admin_hours</th>\n",
       "      <th>total_non_admin</th>\n",
       "      <th>total_ctr_hours</th>\n",
       "      <th>total_non_ctr</th>\n",
       "      <th>Hrs_NAtrn</th>\n",
       "    </tr>\n",
       "  </thead>\n",
       "  <tbody>\n",
       "    <tr>\n",
       "      <th>count</th>\n",
       "      <td>10672.000000</td>\n",
       "      <td>10672.000000</td>\n",
       "      <td>10672.000000</td>\n",
       "      <td>10672.000000</td>\n",
       "      <td>10672.000000</td>\n",
       "      <td>10672.000000</td>\n",
       "    </tr>\n",
       "    <tr>\n",
       "      <th>mean</th>\n",
       "      <td>3.870868</td>\n",
       "      <td>0.329137</td>\n",
       "      <td>3.541738</td>\n",
       "      <td>0.042712</td>\n",
       "      <td>3.828169</td>\n",
       "      <td>0.164784</td>\n",
       "    </tr>\n",
       "    <tr>\n",
       "      <th>std</th>\n",
       "      <td>0.903241</td>\n",
       "      <td>0.259682</td>\n",
       "      <td>0.809740</td>\n",
       "      <td>0.139305</td>\n",
       "      <td>0.900649</td>\n",
       "      <td>0.292434</td>\n",
       "    </tr>\n",
       "    <tr>\n",
       "      <th>min</th>\n",
       "      <td>1.470000</td>\n",
       "      <td>0.000000</td>\n",
       "      <td>1.460000</td>\n",
       "      <td>0.000000</td>\n",
       "      <td>1.380000</td>\n",
       "      <td>0.000000</td>\n",
       "    </tr>\n",
       "    <tr>\n",
       "      <th>25%</th>\n",
       "      <td>3.270000</td>\n",
       "      <td>0.100000</td>\n",
       "      <td>2.980000</td>\n",
       "      <td>0.000000</td>\n",
       "      <td>3.240000</td>\n",
       "      <td>0.000000</td>\n",
       "    </tr>\n",
       "    <tr>\n",
       "      <th>50%</th>\n",
       "      <td>3.770000</td>\n",
       "      <td>0.330000</td>\n",
       "      <td>3.450000</td>\n",
       "      <td>0.000000</td>\n",
       "      <td>3.730000</td>\n",
       "      <td>0.000000</td>\n",
       "    </tr>\n",
       "    <tr>\n",
       "      <th>75%</th>\n",
       "      <td>4.300000</td>\n",
       "      <td>0.480000</td>\n",
       "      <td>3.940000</td>\n",
       "      <td>0.000000</td>\n",
       "      <td>4.270000</td>\n",
       "      <td>0.220000</td>\n",
       "    </tr>\n",
       "    <tr>\n",
       "      <th>max</th>\n",
       "      <td>10.080000</td>\n",
       "      <td>1.960000</td>\n",
       "      <td>8.810000</td>\n",
       "      <td>1.620000</td>\n",
       "      <td>10.080000</td>\n",
       "      <td>2.150000</td>\n",
       "    </tr>\n",
       "  </tbody>\n",
       "</table>\n",
       "</div>"
      ],
      "text/plain": [
       "        total_hours  total_admin_hours  total_non_admin  total_ctr_hours  \\\n",
       "count  10672.000000       10672.000000     10672.000000     10672.000000   \n",
       "mean       3.870868           0.329137         3.541738         0.042712   \n",
       "std        0.903241           0.259682         0.809740         0.139305   \n",
       "min        1.470000           0.000000         1.460000         0.000000   \n",
       "25%        3.270000           0.100000         2.980000         0.000000   \n",
       "50%        3.770000           0.330000         3.450000         0.000000   \n",
       "75%        4.300000           0.480000         3.940000         0.000000   \n",
       "max       10.080000           1.960000         8.810000         1.620000   \n",
       "\n",
       "       total_non_ctr     Hrs_NAtrn  \n",
       "count   10672.000000  10672.000000  \n",
       "mean        3.828169      0.164784  \n",
       "std         0.900649      0.292434  \n",
       "min         1.380000      0.000000  \n",
       "25%         3.240000      0.000000  \n",
       "50%         3.730000      0.000000  \n",
       "75%         4.270000      0.220000  \n",
       "max        10.080000      2.150000  "
      ]
     },
     "execution_count": 89,
     "metadata": {},
     "output_type": "execute_result"
    }
   ],
   "source": [
    "ensign_per_patient_df = staff_hours_per_person(ensign_nurse_df, hour_features)\n",
    "ensign_per_patient_df[features].describe()"
   ]
  },
  {
   "cell_type": "code",
   "execution_count": 91,
   "id": "8ab60ba7",
   "metadata": {},
   "outputs": [
    {
     "data": {
      "image/png": "[encoded data removed]",
      "text/plain": [
       "<Figure size 864x288 with 2 Axes>"
      ]
     },
     "metadata": {
      "needs_background": "light"
     },
     "output_type": "display_data"
    }
   ],
   "source": [
    "fig, axes = plt.subplots(1, 2, figsize=(12,4))\n",
    "per_patient_nurse_df.hist('total_hours', bins=np.arange(0, per_patient_nurse_df['total_hours'].max() + 0.5, 0.5) , ax=axes[0])\n",
    "axes[0].set_title('USA')\n",
    "axes[0].set_xlabel('nursing staff hours/patient')\n",
    "ensign_per_patient_df.hist('total_hours', bins=np.arange(0, ensign_per_patient_df['total_hours'].max() + 0.5, 0.5) , ax=axes[1])\n",
    "axes[1].set_title('Ensign')\n",
    "axes[1].set_xlabel('nursing staff hours/patient');"
   ]
  },
  {
   "cell_type": "code",
   "execution_count": 92,
   "id": "a20aa750",
   "metadata": {},
   "outputs": [],
   "source": [
    "# remove outliers where hours per patient > 12\n",
    "all_per_patient_df = per_patient_nurse_df[per_patient_nurse_df['total_hours'] <= 12]"
   ]
  },
  {
   "cell_type": "code",
   "execution_count": 93,
   "id": "19aea823",
   "metadata": {},
   "outputs": [
    {
     "data": {
      "image/png": "[encoded data removed]",
      "text/plain": [
       "<Figure size 864x288 with 2 Axes>"
      ]
     },
     "metadata": {
      "needs_background": "light"
     },
     "output_type": "display_data"
    }
   ],
   "source": [
    "fig, axes = plt.subplots(1, 2, figsize=(12,4))\n",
    "all_per_patient_df.hist('total_hours', bins=np.arange(0, all_per_patient_df['total_hours'].max() + 0.5, 0.5) , ax=axes[0])\n",
    "axes[0].set_title('USA')\n",
    "axes[0].set_xlabel('nursing staff hours/patient')\n",
    "ensign_per_patient_df.hist('total_hours', bins=np.arange(0, ensign_per_patient_df['total_hours'].max() + 0.5, 0.5) , ax=axes[1])\n",
    "axes[1].set_title('Ensign')\n",
    "axes[1].set_xlabel('nursing staff hours/patient');"
   ]
  },
  {
   "cell_type": "markdown",
   "id": "f461f8a5",
   "metadata": {},
   "source": [
    "### After dropping the outliers, we can see that most facilities is the US have 2 - 6 nursing staff hours per patient per day, with the peak at aroud 3.8.\n",
    "### The distribution is similar for the Ensign facilities.\n",
    "### Next, we further explore the percentiles of nursing staff hours per patient:"
   ]
  },
  {
   "cell_type": "code",
   "execution_count": 162,
   "id": "6d3b8600",
   "metadata": {},
   "outputs": [
    {
     "data": {
      "text/plain": [
       "0.05    2.58\n",
       "0.25    3.34\n",
       "0.50    3.91\n",
       "0.75    4.61\n",
       "0.95    6.20\n",
       "Name: total_hours, dtype: float64"
      ]
     },
     "execution_count": 162,
     "metadata": {},
     "output_type": "execute_result"
    }
   ],
   "source": [
    "# Percentiles of nursing staff hours per patient\n",
    "all_per_patient_df['total_hours'].quantile([0.05, 0.25, 0.5, 0.75, 0.95])"
   ]
  },
  {
   "cell_type": "code",
   "execution_count": 165,
   "id": "ac9a5d46",
   "metadata": {},
   "outputs": [
    {
     "data": {
      "text/plain": [
       "1.2700000000000005"
      ]
     },
     "execution_count": 165,
     "metadata": {},
     "output_type": "execute_result"
    }
   ],
   "source": [
    "iqr_all = all_per_patient_df['total_hours'].quantile(0.75) - all_per_patient_df['total_hours'].quantile(0.25)\n",
    "iqr_all"
   ]
  },
  {
   "cell_type": "code",
   "execution_count": 163,
   "id": "8a0c780a",
   "metadata": {},
   "outputs": [
    {
     "data": {
      "text/plain": [
       "0.05    2.66\n",
       "0.25    3.27\n",
       "0.50    3.77\n",
       "0.75    4.30\n",
       "0.95    5.54\n",
       "Name: total_hours, dtype: float64"
      ]
     },
     "execution_count": 163,
     "metadata": {},
     "output_type": "execute_result"
    }
   ],
   "source": [
    "# Percentiles of nursing staff hours per patient\n",
    "ensign_per_patient_df['total_hours'].quantile([0.05, 0.25, 0.5, 0.75, 0.95])"
   ]
  },
  {
   "cell_type": "code",
   "execution_count": 166,
   "id": "69319fca",
   "metadata": {},
   "outputs": [
    {
     "data": {
      "text/plain": [
       "1.0299999999999998"
      ]
     },
     "execution_count": 166,
     "metadata": {},
     "output_type": "execute_result"
    }
   ],
   "source": [
    "iqr_ensign = ensign_per_patient_df['total_hours'].quantile(0.75) - ensign_per_patient_df['total_hours'].quantile(0.25)\n",
    "iqr_ensign"
   ]
  },
  {
   "cell_type": "markdown",
   "id": "37b26e26",
   "metadata": {},
   "source": [
    "### The Ensign's nursing staff hours IQR is less than the nation's nurse staffing hours IQR, indicating less variability of nursing staff hours per patient within the Ensign facilities.\n",
    "### There are some days with very high and very low nursing staff hours per patient. Next, we will expolore more on those records within less than 5% percentile and more than 95% percentile."
   ]
  },
  {
   "cell_type": "code",
   "execution_count": 132,
   "id": "ca5aeacb",
   "metadata": {},
   "outputs": [
    {
     "data": {
      "text/plain": [
       "15"
      ]
     },
     "execution_count": 132,
     "metadata": {},
     "output_type": "execute_result"
    }
   ],
   "source": [
    "# extract the records with > 95% nursing staff hours per patient\n",
    "ensign_high_hour = ensign_per_patient_df[ensign_per_patient_df['total_hours'] > 6.20]\n",
    "ensign_high_hour['PROVNUM'].nunique()"
   ]
  },
  {
   "cell_type": "code",
   "execution_count": 133,
   "id": "0869f21d",
   "metadata": {},
   "outputs": [
    {
     "data": {
      "text/plain": [
       "Int64Index([555871, 555258,  55632,  65404, 555326,  65417, 555545, 555739,\n",
       "            555613, 135134, 555796, 135125,  55734,  55756, 135129],\n",
       "           dtype='int64')"
      ]
     },
     "execution_count": 133,
     "metadata": {},
     "output_type": "execute_result"
    }
   ],
   "source": [
    "ensign_high_hour['PROVNUM'].value_counts().index"
   ]
  },
  {
   "cell_type": "code",
   "execution_count": 170,
   "id": "33e35b5f",
   "metadata": {},
   "outputs": [
    {
     "data": {
      "image/png": "[encoded data removed]",
      "text/plain": [
       "<Figure size 864x576 with 1 Axes>"
      ]
     },
     "metadata": {},
     "output_type": "display_data"
    }
   ],
   "source": [
    "sns.set(rc={\"figure.figsize\":(12, 8)})\n",
    "ax = sns.countplot(data=ensign_high_hour, y='PROVNUM', order=ensign_high_hour['PROVNUM'].value_counts().index, color='b');\n",
    "ax.set(xlabel='days with > 6.20 nursing hours/patient', ylabel='provider number');"
   ]
  },
  {
   "cell_type": "code",
   "execution_count": 195,
   "id": "43338e37",
   "metadata": {},
   "outputs": [
    {
     "data": {
      "image/png": "[encoded data removed]",
      "text/plain": [
       "<Figure size 432x288 with 1 Axes>"
      ]
     },
     "metadata": {},
     "output_type": "display_data"
    }
   ],
   "source": [
    "high_ensign_facility_df = ensign_high_hour.groupby('PROVNUM').first()\n",
    "sns.set(rc={\"figure.figsize\":(6, 4)})\n",
    "ax = sns.countplot(x=\"STATE\", data=high_ensign_facility_df, color='b',\n",
    "                   order = high_ensign_facility_df['STATE'].value_counts().index)\n",
    "ax.set_title('Numbers of Ensign High Hour Facilities By State', fontsize=15)\n",
    "ax.set(ylim=(0, 12))\n",
    "for p in ax.patches:\n",
    "    ax.annotate(f'\\n{p.get_height()}', (p.get_x()+0.4, p.get_height() + 2.0), ha='center', va='top', color='black', size=18)"
   ]
  },
  {
   "cell_type": "code",
   "execution_count": 143,
   "id": "7896f075",
   "metadata": {},
   "outputs": [
    {
     "data": {
      "image/png": "[encoded data removed]",
      "text/plain": [
       "<Figure size 432x288 with 1 Axes>"
      ]
     },
     "metadata": {},
     "output_type": "display_data"
    }
   ],
   "source": [
    "sns.set(rc={\"figure.figsize\":(6, 4)})\n",
    "sns.countplot(data=ensign_high_hour, x='is_holiday_week');"
   ]
  },
  {
   "cell_type": "code",
   "execution_count": 144,
   "id": "7e7425ec",
   "metadata": {},
   "outputs": [
    {
     "data": {
      "image/png": "[encoded data removed]",
      "text/plain": [
       "<Figure size 432x288 with 1 Axes>"
      ]
     },
     "metadata": {},
     "output_type": "display_data"
    }
   ],
   "source": [
    "sns.set(rc={\"figure.figsize\":(6, 4)})\n",
    "sns.countplot(data=ensign_high_hour, x='is_weekend');"
   ]
  },
  {
   "cell_type": "code",
   "execution_count": 190,
   "id": "3b7ed749",
   "metadata": {},
   "outputs": [
    {
     "data": {
      "image/png": "[encoded data removed]",
      "text/plain": [
       "<Figure size 720x288 with 1 Axes>"
      ]
     },
     "metadata": {},
     "output_type": "display_data"
    }
   ],
   "source": [
    "order = [\"Monday\", \"Tuesday\", \"Wednesday\", \"Thursday\", \"Friday\", \"Saturday\", \"Sunday\"]\n",
    "sns.set(rc={\"figure.figsize\":(10, 4)})\n",
    "sns.countplot(data=ensign_high_hour, x='day_name', order=order, color='b');"
   ]
  },
  {
   "cell_type": "code",
   "execution_count": 184,
   "id": "8803b4fa",
   "metadata": {},
   "outputs": [
    {
     "data": {
      "image/png": "[encoded data removed]",
      "text/plain": [
       "<Figure size 432x288 with 1 Axes>"
      ]
     },
     "metadata": {},
     "output_type": "display_data"
    }
   ],
   "source": [
    "sns.set(rc={\"figure.figsize\":(6, 4)})\n",
    "sns.countplot(data=ensign_high_hour, x='STATE', order=ensign_high_hour['STATE'].value_counts().index, color='b');"
   ]
  },
  {
   "cell_type": "code",
   "execution_count": 185,
   "id": "5f310993",
   "metadata": {},
   "outputs": [
    {
     "data": {
      "image/png": "[encoded data removed]",
      "text/plain": [
       "<Figure size 432x288 with 1 Axes>"
      ]
     },
     "metadata": {},
     "output_type": "display_data"
    }
   ],
   "source": [
    "sns.set(rc={\"figure.figsize\":(6, 4)})\n",
    "sns.countplot(data=ensign_high_hour, x='month');"
   ]
  },
  {
   "cell_type": "markdown",
   "id": "4a626213",
   "metadata": {},
   "source": [
    "### There are 15 facilities with more than 6.20 nurse staff hours/patient in this quarter.\n",
    "### 10 of the 15 facilities are in California, 3 in Idaho, and 2 in Colorado.\n",
    "### California also has the most days with high with high nurse staff hours per patient\n",
    "### High nurse staff hours occured mostly on weekdays, with only a few records on the weekends.\n",
    "### High nurse staff hours doesn't seem to be related to months or holidays."
   ]
  },
  {
   "cell_type": "code",
   "execution_count": 136,
   "id": "e568400f",
   "metadata": {},
   "outputs": [
    {
     "data": {
      "text/plain": [
       "40"
      ]
     },
     "execution_count": 136,
     "metadata": {},
     "output_type": "execute_result"
    }
   ],
   "source": [
    "ensign_low_hour = ensign_per_patient_df[ensign_per_patient_df['total_hours'] < 2.58]\n",
    "ensign_low_hour['PROVNUM'].nunique()"
   ]
  },
  {
   "cell_type": "code",
   "execution_count": 137,
   "id": "43241832",
   "metadata": {},
   "outputs": [
    {
     "data": {
      "text/plain": [
       "<AxesSubplot:xlabel='count', ylabel='PROVNUM'>"
      ]
     },
     "execution_count": 137,
     "metadata": {},
     "output_type": "execute_result"
    },
    {
     "data": {
      "image/png": "[encoded data removed]",
      "text/plain": [
       "<Figure size 864x720 with 1 Axes>"
      ]
     },
     "metadata": {},
     "output_type": "display_data"
    }
   ],
   "source": [
    "sns.set(rc={\"figure.figsize\":(12, 10)})\n",
    "sns.countplot(data=ensign_low_hour, y='PROVNUM', order=ensign_low_hour['PROVNUM'].value_counts().index, color='b')"
   ]
  },
  {
   "cell_type": "code",
   "execution_count": 209,
   "id": "04901114",
   "metadata": {},
   "outputs": [
    {
     "data": {
      "image/png": "[encoded data removed]",
      "text/plain": [
       "<Figure size 432x288 with 1 Axes>"
      ]
     },
     "metadata": {},
     "output_type": "display_data"
    }
   ],
   "source": [
    "low_ensign_facility_df = ensign_low_hour.groupby('PROVNUM').first()\n",
    "sns.set(rc={\"figure.figsize\":(6, 4)})\n",
    "ax = sns.countplot(x=\"STATE\", data=low_ensign_facility_df, color='b',\n",
    "                   order = low_ensign_facility_df['STATE'].value_counts().index)\n",
    "ax.set_title('Numbers of Ensign Low Hour Facilities By State', fontsize=15)\n",
    "ax.set(ylim=(0, 32))\n",
    "for p in ax.patches:\n",
    "    ax.annotate(f'\\n{p.get_height()}', (p.get_x()+0.4, p.get_height() + 4.3), ha='center', va='top', color='black', size=16)"
   ]
  },
  {
   "cell_type": "code",
   "execution_count": 138,
   "id": "05cae4ee",
   "metadata": {},
   "outputs": [
    {
     "data": {
      "image/png": "[encoded data removed]",
      "text/plain": [
       "<Figure size 432x288 with 1 Axes>"
      ]
     },
     "metadata": {},
     "output_type": "display_data"
    }
   ],
   "source": [
    "sns.set(rc={\"figure.figsize\":(6, 4)})\n",
    "sns.countplot(data=ensign_low_hour, x='is_holiday_week');"
   ]
  },
  {
   "cell_type": "code",
   "execution_count": 139,
   "id": "bdfaba59",
   "metadata": {},
   "outputs": [
    {
     "data": {
      "image/png": "[encoded data removed]",
      "text/plain": [
       "<Figure size 432x288 with 1 Axes>"
      ]
     },
     "metadata": {},
     "output_type": "display_data"
    }
   ],
   "source": [
    "sns.set(rc={\"figure.figsize\":(6, 4)})\n",
    "sns.countplot(data=ensign_low_hour, x='is_weekend');"
   ]
  },
  {
   "cell_type": "code",
   "execution_count": 191,
   "id": "d7a8cf34",
   "metadata": {},
   "outputs": [
    {
     "data": {
      "image/png": "[encoded data removed]",
      "text/plain": [
       "<Figure size 720x288 with 1 Axes>"
      ]
     },
     "metadata": {},
     "output_type": "display_data"
    }
   ],
   "source": [
    "order = [\"Monday\", \"Tuesday\", \"Wednesday\", \"Thursday\", \"Friday\", \"Saturday\", \"Sunday\"]\n",
    "sns.set(rc={\"figure.figsize\":(10, 4)})\n",
    "sns.countplot(data=ensign_low_hour, x='day_name', order=order, color='b');"
   ]
  },
  {
   "cell_type": "code",
   "execution_count": 229,
   "id": "21af3701",
   "metadata": {},
   "outputs": [
    {
     "data": {
      "image/png": "[encoded data removed]",
      "text/plain": [
       "<Figure size 720x288 with 1 Axes>"
      ]
     },
     "metadata": {},
     "output_type": "display_data"
    }
   ],
   "source": [
    "sns.set(rc={\"figure.figsize\":(10, 4)})\n",
    "sns.countplot(data=ensign_low_hour, x='STATE', order=ensign_low_hour['STATE'].value_counts().index, color='b');"
   ]
  },
  {
   "cell_type": "code",
   "execution_count": 193,
   "id": "edfae156",
   "metadata": {},
   "outputs": [
    {
     "data": {
      "image/png": "[encoded data removed]",
      "text/plain": [
       "<Figure size 432x288 with 1 Axes>"
      ]
     },
     "metadata": {},
     "output_type": "display_data"
    }
   ],
   "source": [
    "sns.set(rc={\"figure.figsize\":(6, 4)})\n",
    "sns.countplot(data=ensign_low_hour, x='month');"
   ]
  },
  {
   "cell_type": "markdown",
   "id": "cbe9eb9f",
   "metadata": {},
   "source": [
    "### There are 40 Ensign facilities with less than 2.58 nurse staffing hours per patient in this quarter.\n",
    "### More than half of the low hour facilities are in Texas (26), followed by IA, CO, WI, CA, and ID.\n",
    "### Texas has the most records with low nurse staffing hours per patient.\n",
    "### Most of the low nurse staff hours happened on the weekends.\n",
    "### Low nurse staff hours doesn't seem to be related to months or holidays."
   ]
  },
  {
   "cell_type": "code",
   "execution_count": 219,
   "id": "f7017ae5",
   "metadata": {},
   "outputs": [
    {
     "data": {
      "text/html": [
       "<div>\n",
       "<style scoped>\n",
       "    .dataframe tbody tr th:only-of-type {\n",
       "        vertical-align: middle;\n",
       "    }\n",
       "\n",
       "    .dataframe tbody tr th {\n",
       "        vertical-align: top;\n",
       "    }\n",
       "\n",
       "    .dataframe thead th {\n",
       "        text-align: right;\n",
       "    }\n",
       "</style>\n",
       "<table border=\"1\" class=\"dataframe\">\n",
       "  <thead>\n",
       "    <tr style=\"text-align: right;\">\n",
       "      <th></th>\n",
       "      <th>total_hours</th>\n",
       "      <th>total_admin_hours</th>\n",
       "      <th>total_non_admin</th>\n",
       "      <th>total_ctr_hours</th>\n",
       "      <th>total_non_ctr</th>\n",
       "      <th>MDScensus</th>\n",
       "    </tr>\n",
       "  </thead>\n",
       "  <tbody>\n",
       "    <tr>\n",
       "      <th>count</th>\n",
       "      <td>10672.000000</td>\n",
       "      <td>10672.000000</td>\n",
       "      <td>10672.000000</td>\n",
       "      <td>10672.000000</td>\n",
       "      <td>10672.000000</td>\n",
       "      <td>10672.000000</td>\n",
       "    </tr>\n",
       "    <tr>\n",
       "      <th>mean</th>\n",
       "      <td>3.870868</td>\n",
       "      <td>0.329137</td>\n",
       "      <td>3.541738</td>\n",
       "      <td>0.042712</td>\n",
       "      <td>3.828169</td>\n",
       "      <td>73.641117</td>\n",
       "    </tr>\n",
       "    <tr>\n",
       "      <th>std</th>\n",
       "      <td>0.903241</td>\n",
       "      <td>0.259682</td>\n",
       "      <td>0.809740</td>\n",
       "      <td>0.139305</td>\n",
       "      <td>0.900649</td>\n",
       "      <td>29.409806</td>\n",
       "    </tr>\n",
       "    <tr>\n",
       "      <th>min</th>\n",
       "      <td>1.470000</td>\n",
       "      <td>0.000000</td>\n",
       "      <td>1.460000</td>\n",
       "      <td>0.000000</td>\n",
       "      <td>1.380000</td>\n",
       "      <td>13.000000</td>\n",
       "    </tr>\n",
       "    <tr>\n",
       "      <th>25%</th>\n",
       "      <td>3.270000</td>\n",
       "      <td>0.100000</td>\n",
       "      <td>2.980000</td>\n",
       "      <td>0.000000</td>\n",
       "      <td>3.240000</td>\n",
       "      <td>51.000000</td>\n",
       "    </tr>\n",
       "    <tr>\n",
       "      <th>50%</th>\n",
       "      <td>3.770000</td>\n",
       "      <td>0.330000</td>\n",
       "      <td>3.450000</td>\n",
       "      <td>0.000000</td>\n",
       "      <td>3.730000</td>\n",
       "      <td>74.000000</td>\n",
       "    </tr>\n",
       "    <tr>\n",
       "      <th>75%</th>\n",
       "      <td>4.300000</td>\n",
       "      <td>0.480000</td>\n",
       "      <td>3.940000</td>\n",
       "      <td>0.000000</td>\n",
       "      <td>4.270000</td>\n",
       "      <td>87.000000</td>\n",
       "    </tr>\n",
       "    <tr>\n",
       "      <th>max</th>\n",
       "      <td>10.080000</td>\n",
       "      <td>1.960000</td>\n",
       "      <td>8.810000</td>\n",
       "      <td>1.620000</td>\n",
       "      <td>10.080000</td>\n",
       "      <td>234.000000</td>\n",
       "    </tr>\n",
       "  </tbody>\n",
       "</table>\n",
       "</div>"
      ],
      "text/plain": [
       "        total_hours  total_admin_hours  total_non_admin  total_ctr_hours  \\\n",
       "count  10672.000000       10672.000000     10672.000000     10672.000000   \n",
       "mean       3.870868           0.329137         3.541738         0.042712   \n",
       "std        0.903241           0.259682         0.809740         0.139305   \n",
       "min        1.470000           0.000000         1.460000         0.000000   \n",
       "25%        3.270000           0.100000         2.980000         0.000000   \n",
       "50%        3.770000           0.330000         3.450000         0.000000   \n",
       "75%        4.300000           0.480000         3.940000         0.000000   \n",
       "max       10.080000           1.960000         8.810000         1.620000   \n",
       "\n",
       "       total_non_ctr     MDScensus  \n",
       "count   10672.000000  10672.000000  \n",
       "mean        3.828169     73.641117  \n",
       "std         0.900649     29.409806  \n",
       "min         1.380000     13.000000  \n",
       "25%         3.240000     51.000000  \n",
       "50%         3.730000     74.000000  \n",
       "75%         4.270000     87.000000  \n",
       "max        10.080000    234.000000  "
      ]
     },
     "execution_count": 219,
     "metadata": {},
     "output_type": "execute_result"
    }
   ],
   "source": [
    "new_features = ['total_hours', 'total_admin_hours', 'total_non_admin', 'total_ctr_hours', 'total_non_ctr', 'MDScensus']\n",
    "ensign_per_patient_df[new_features].describe()"
   ]
  },
  {
   "cell_type": "code",
   "execution_count": 231,
   "id": "72fece07",
   "metadata": {},
   "outputs": [
    {
     "data": {
      "text/plain": [
       "Text(0.5, 1.0, 'All Ensign Facilities')"
      ]
     },
     "execution_count": 231,
     "metadata": {},
     "output_type": "execute_result"
    },
    {
     "data": {
      "image/png": "[encoded data removed]",
      "text/plain": [
       "<Figure size 720x432 with 1 Axes>"
      ]
     },
     "metadata": {},
     "output_type": "display_data"
    }
   ],
   "source": [
    "sns.set(rc={\"figure.figsize\":(10, 6)})\n",
    "hour_columns = ['total_hours', 'total_admin_hours', 'total_non_admin', 'total_ctr_hours', 'total_non_ctr']\n",
    "ax = ensign_per_patient_df.boxplot(column=hour_columns)\n",
    "ax.set(ylabel='hours per patient')\n",
    "ax.set_title('All Ensign Facilities');"
   ]
  },
  {
   "cell_type": "code",
   "execution_count": 214,
   "id": "fd25a5e2",
   "metadata": {},
   "outputs": [
    {
     "data": {
      "text/html": [
       "<div>\n",
       "<style scoped>\n",
       "    .dataframe tbody tr th:only-of-type {\n",
       "        vertical-align: middle;\n",
       "    }\n",
       "\n",
       "    .dataframe tbody tr th {\n",
       "        vertical-align: top;\n",
       "    }\n",
       "\n",
       "    .dataframe thead th {\n",
       "        text-align: right;\n",
       "    }\n",
       "</style>\n",
       "<table border=\"1\" class=\"dataframe\">\n",
       "  <thead>\n",
       "    <tr style=\"text-align: right;\">\n",
       "      <th></th>\n",
       "      <th>total_hours</th>\n",
       "      <th>total_admin_hours</th>\n",
       "      <th>total_non_admin</th>\n",
       "      <th>total_ctr_hours</th>\n",
       "      <th>total_non_ctr</th>\n",
       "      <th>MDScensus</th>\n",
       "    </tr>\n",
       "  </thead>\n",
       "  <tbody>\n",
       "    <tr>\n",
       "      <th>count</th>\n",
       "      <td>246.000000</td>\n",
       "      <td>246.000000</td>\n",
       "      <td>246.000000</td>\n",
       "      <td>246.000000</td>\n",
       "      <td>246.00000</td>\n",
       "      <td>246.000000</td>\n",
       "    </tr>\n",
       "    <tr>\n",
       "      <th>mean</th>\n",
       "      <td>6.984024</td>\n",
       "      <td>0.751057</td>\n",
       "      <td>6.233252</td>\n",
       "      <td>0.086992</td>\n",
       "      <td>6.89687</td>\n",
       "      <td>41.402439</td>\n",
       "    </tr>\n",
       "    <tr>\n",
       "      <th>std</th>\n",
       "      <td>0.727244</td>\n",
       "      <td>0.377067</td>\n",
       "      <td>0.653705</td>\n",
       "      <td>0.253993</td>\n",
       "      <td>0.79338</td>\n",
       "      <td>21.096973</td>\n",
       "    </tr>\n",
       "    <tr>\n",
       "      <th>min</th>\n",
       "      <td>6.210000</td>\n",
       "      <td>0.000000</td>\n",
       "      <td>4.570000</td>\n",
       "      <td>0.000000</td>\n",
       "      <td>4.91000</td>\n",
       "      <td>13.000000</td>\n",
       "    </tr>\n",
       "    <tr>\n",
       "      <th>25%</th>\n",
       "      <td>6.452500</td>\n",
       "      <td>0.542500</td>\n",
       "      <td>5.812500</td>\n",
       "      <td>0.000000</td>\n",
       "      <td>6.41250</td>\n",
       "      <td>22.000000</td>\n",
       "    </tr>\n",
       "    <tr>\n",
       "      <th>50%</th>\n",
       "      <td>6.785000</td>\n",
       "      <td>0.620000</td>\n",
       "      <td>6.165000</td>\n",
       "      <td>0.000000</td>\n",
       "      <td>6.73000</td>\n",
       "      <td>41.000000</td>\n",
       "    </tr>\n",
       "    <tr>\n",
       "      <th>75%</th>\n",
       "      <td>7.235000</td>\n",
       "      <td>1.055000</td>\n",
       "      <td>6.520000</td>\n",
       "      <td>0.000000</td>\n",
       "      <td>7.17750</td>\n",
       "      <td>45.000000</td>\n",
       "    </tr>\n",
       "    <tr>\n",
       "      <th>max</th>\n",
       "      <td>10.080000</td>\n",
       "      <td>1.960000</td>\n",
       "      <td>8.810000</td>\n",
       "      <td>1.470000</td>\n",
       "      <td>10.08000</td>\n",
       "      <td>105.000000</td>\n",
       "    </tr>\n",
       "  </tbody>\n",
       "</table>\n",
       "</div>"
      ],
      "text/plain": [
       "       total_hours  total_admin_hours  total_non_admin  total_ctr_hours  \\\n",
       "count   246.000000         246.000000       246.000000       246.000000   \n",
       "mean      6.984024           0.751057         6.233252         0.086992   \n",
       "std       0.727244           0.377067         0.653705         0.253993   \n",
       "min       6.210000           0.000000         4.570000         0.000000   \n",
       "25%       6.452500           0.542500         5.812500         0.000000   \n",
       "50%       6.785000           0.620000         6.165000         0.000000   \n",
       "75%       7.235000           1.055000         6.520000         0.000000   \n",
       "max      10.080000           1.960000         8.810000         1.470000   \n",
       "\n",
       "       total_non_ctr   MDScensus  \n",
       "count      246.00000  246.000000  \n",
       "mean         6.89687   41.402439  \n",
       "std          0.79338   21.096973  \n",
       "min          4.91000   13.000000  \n",
       "25%          6.41250   22.000000  \n",
       "50%          6.73000   41.000000  \n",
       "75%          7.17750   45.000000  \n",
       "max         10.08000  105.000000  "
      ]
     },
     "execution_count": 214,
     "metadata": {},
     "output_type": "execute_result"
    }
   ],
   "source": [
    "ensign_high_hour[new_features].describe()"
   ]
  },
  {
   "cell_type": "code",
   "execution_count": 232,
   "id": "1527b87a",
   "metadata": {},
   "outputs": [
    {
     "data": {
      "image/png": "[encoded data removed]",
      "text/plain": [
       "<Figure size 720x432 with 1 Axes>"
      ]
     },
     "metadata": {},
     "output_type": "display_data"
    }
   ],
   "source": [
    "ax = ensign_high_hour.boxplot(column=hour_columns)\n",
    "ax.set(ylabel='hours per patient')\n",
    "ax.set_title('High Hour Ensign Facilities');"
   ]
  },
  {
   "cell_type": "code",
   "execution_count": 215,
   "id": "b907cf0c",
   "metadata": {},
   "outputs": [
    {
     "data": {
      "text/html": [
       "<div>\n",
       "<style scoped>\n",
       "    .dataframe tbody tr th:only-of-type {\n",
       "        vertical-align: middle;\n",
       "    }\n",
       "\n",
       "    .dataframe tbody tr th {\n",
       "        vertical-align: top;\n",
       "    }\n",
       "\n",
       "    .dataframe thead th {\n",
       "        text-align: right;\n",
       "    }\n",
       "</style>\n",
       "<table border=\"1\" class=\"dataframe\">\n",
       "  <thead>\n",
       "    <tr style=\"text-align: right;\">\n",
       "      <th></th>\n",
       "      <th>total_hours</th>\n",
       "      <th>total_admin_hours</th>\n",
       "      <th>total_non_admin</th>\n",
       "      <th>total_ctr_hours</th>\n",
       "      <th>total_non_ctr</th>\n",
       "      <th>MDScensus</th>\n",
       "    </tr>\n",
       "  </thead>\n",
       "  <tbody>\n",
       "    <tr>\n",
       "      <th>count</th>\n",
       "      <td>401.000000</td>\n",
       "      <td>401.000000</td>\n",
       "      <td>401.000000</td>\n",
       "      <td>401.000000</td>\n",
       "      <td>401.000000</td>\n",
       "      <td>401.000000</td>\n",
       "    </tr>\n",
       "    <tr>\n",
       "      <th>mean</th>\n",
       "      <td>2.341272</td>\n",
       "      <td>0.080474</td>\n",
       "      <td>2.261022</td>\n",
       "      <td>0.029651</td>\n",
       "      <td>2.311696</td>\n",
       "      <td>71.875312</td>\n",
       "    </tr>\n",
       "    <tr>\n",
       "      <th>std</th>\n",
       "      <td>0.195611</td>\n",
       "      <td>0.125758</td>\n",
       "      <td>0.208672</td>\n",
       "      <td>0.085542</td>\n",
       "      <td>0.212417</td>\n",
       "      <td>29.495498</td>\n",
       "    </tr>\n",
       "    <tr>\n",
       "      <th>min</th>\n",
       "      <td>1.470000</td>\n",
       "      <td>0.000000</td>\n",
       "      <td>1.460000</td>\n",
       "      <td>0.000000</td>\n",
       "      <td>1.380000</td>\n",
       "      <td>25.000000</td>\n",
       "    </tr>\n",
       "    <tr>\n",
       "      <th>25%</th>\n",
       "      <td>2.250000</td>\n",
       "      <td>0.000000</td>\n",
       "      <td>2.140000</td>\n",
       "      <td>0.000000</td>\n",
       "      <td>2.190000</td>\n",
       "      <td>49.000000</td>\n",
       "    </tr>\n",
       "    <tr>\n",
       "      <th>50%</th>\n",
       "      <td>2.390000</td>\n",
       "      <td>0.000000</td>\n",
       "      <td>2.300000</td>\n",
       "      <td>0.000000</td>\n",
       "      <td>2.360000</td>\n",
       "      <td>74.000000</td>\n",
       "    </tr>\n",
       "    <tr>\n",
       "      <th>75%</th>\n",
       "      <td>2.490000</td>\n",
       "      <td>0.120000</td>\n",
       "      <td>2.420000</td>\n",
       "      <td>0.000000</td>\n",
       "      <td>2.480000</td>\n",
       "      <td>84.000000</td>\n",
       "    </tr>\n",
       "    <tr>\n",
       "      <th>max</th>\n",
       "      <td>2.570000</td>\n",
       "      <td>0.630000</td>\n",
       "      <td>2.570000</td>\n",
       "      <td>0.570000</td>\n",
       "      <td>2.570000</td>\n",
       "      <td>234.000000</td>\n",
       "    </tr>\n",
       "  </tbody>\n",
       "</table>\n",
       "</div>"
      ],
      "text/plain": [
       "       total_hours  total_admin_hours  total_non_admin  total_ctr_hours  \\\n",
       "count   401.000000         401.000000       401.000000       401.000000   \n",
       "mean      2.341272           0.080474         2.261022         0.029651   \n",
       "std       0.195611           0.125758         0.208672         0.085542   \n",
       "min       1.470000           0.000000         1.460000         0.000000   \n",
       "25%       2.250000           0.000000         2.140000         0.000000   \n",
       "50%       2.390000           0.000000         2.300000         0.000000   \n",
       "75%       2.490000           0.120000         2.420000         0.000000   \n",
       "max       2.570000           0.630000         2.570000         0.570000   \n",
       "\n",
       "       total_non_ctr   MDScensus  \n",
       "count     401.000000  401.000000  \n",
       "mean        2.311696   71.875312  \n",
       "std         0.212417   29.495498  \n",
       "min         1.380000   25.000000  \n",
       "25%         2.190000   49.000000  \n",
       "50%         2.360000   74.000000  \n",
       "75%         2.480000   84.000000  \n",
       "max         2.570000  234.000000  "
      ]
     },
     "execution_count": 215,
     "metadata": {},
     "output_type": "execute_result"
    }
   ],
   "source": [
    "ensign_low_hour[new_features].describe()"
   ]
  },
  {
   "cell_type": "code",
   "execution_count": 234,
   "id": "8b638c39",
   "metadata": {},
   "outputs": [
    {
     "data": {
      "image/png": "[encoded data removed]",
      "text/plain": [
       "<Figure size 720x432 with 1 Axes>"
      ]
     },
     "metadata": {},
     "output_type": "display_data"
    }
   ],
   "source": [
    "ax = ensign_low_hour.boxplot(column=hour_columns)\n",
    "ax.set(ylabel='hours per patient')\n",
    "ax.set_title('Low Hour Ensign Facilities');"
   ]
  },
  {
   "cell_type": "code",
   "execution_count": 12,
   "id": "a565692f",
   "metadata": {},
   "outputs": [
    {
     "data": {
      "text/html": [
       "<div>\n",
       "<style scoped>\n",
       "    .dataframe tbody tr th:only-of-type {\n",
       "        vertical-align: middle;\n",
       "    }\n",
       "\n",
       "    .dataframe tbody tr th {\n",
       "        vertical-align: top;\n",
       "    }\n",
       "\n",
       "    .dataframe thead th {\n",
       "        text-align: right;\n",
       "    }\n",
       "</style>\n",
       "<table border=\"1\" class=\"dataframe\">\n",
       "  <thead>\n",
       "    <tr style=\"text-align: right;\">\n",
       "      <th></th>\n",
       "      <th>total_hours</th>\n",
       "      <th>total_admin_hours</th>\n",
       "      <th>total_non_admin</th>\n",
       "      <th>total_ctr_hours</th>\n",
       "      <th>total_non_ctr</th>\n",
       "      <th>Hrs_NAtrn</th>\n",
       "    </tr>\n",
       "  </thead>\n",
       "  <tbody>\n",
       "    <tr>\n",
       "      <th>count</th>\n",
       "      <td>1.340575e+06</td>\n",
       "      <td>1.340575e+06</td>\n",
       "      <td>1.340575e+06</td>\n",
       "      <td>1.340575e+06</td>\n",
       "      <td>1.340575e+06</td>\n",
       "      <td>1.340575e+06</td>\n",
       "    </tr>\n",
       "    <tr>\n",
       "      <th>mean</th>\n",
       "      <td>4.102563e+00</td>\n",
       "      <td>3.262764e-01</td>\n",
       "      <td>3.776337e+00</td>\n",
       "      <td>1.725934e-01</td>\n",
       "      <td>3.929973e+00</td>\n",
       "      <td>7.775059e-02</td>\n",
       "    </tr>\n",
       "    <tr>\n",
       "      <th>std</th>\n",
       "      <td>1.165389e+00</td>\n",
       "      <td>3.055112e-01</td>\n",
       "      <td>1.050318e+00</td>\n",
       "      <td>4.155742e-01</td>\n",
       "      <td>1.196992e+00</td>\n",
       "      <td>1.958824e-01</td>\n",
       "    </tr>\n",
       "    <tr>\n",
       "      <th>min</th>\n",
       "      <td>1.510000e+00</td>\n",
       "      <td>0.000000e+00</td>\n",
       "      <td>0.000000e+00</td>\n",
       "      <td>0.000000e+00</td>\n",
       "      <td>0.000000e+00</td>\n",
       "      <td>0.000000e+00</td>\n",
       "    </tr>\n",
       "    <tr>\n",
       "      <th>25%</th>\n",
       "      <td>3.360000e+00</td>\n",
       "      <td>7.000000e-02</td>\n",
       "      <td>3.100000e+00</td>\n",
       "      <td>0.000000e+00</td>\n",
       "      <td>3.170000e+00</td>\n",
       "      <td>0.000000e+00</td>\n",
       "    </tr>\n",
       "    <tr>\n",
       "      <th>50%</th>\n",
       "      <td>3.920000e+00</td>\n",
       "      <td>2.900000e-01</td>\n",
       "      <td>3.610000e+00</td>\n",
       "      <td>0.000000e+00</td>\n",
       "      <td>3.770000e+00</td>\n",
       "      <td>0.000000e+00</td>\n",
       "    </tr>\n",
       "    <tr>\n",
       "      <th>75%</th>\n",
       "      <td>4.610000e+00</td>\n",
       "      <td>4.900000e-01</td>\n",
       "      <td>4.240000e+00</td>\n",
       "      <td>1.400000e-01</td>\n",
       "      <td>4.480000e+00</td>\n",
       "      <td>0.000000e+00</td>\n",
       "    </tr>\n",
       "    <tr>\n",
       "      <th>max</th>\n",
       "      <td>1.199000e+01</td>\n",
       "      <td>1.050000e+01</td>\n",
       "      <td>1.199000e+01</td>\n",
       "      <td>9.420000e+00</td>\n",
       "      <td>1.199000e+01</td>\n",
       "      <td>4.550000e+00</td>\n",
       "    </tr>\n",
       "  </tbody>\n",
       "</table>\n",
       "</div>"
      ],
      "text/plain": [
       "        total_hours  total_admin_hours  total_non_admin  total_ctr_hours  \\\n",
       "count  1.340575e+06       1.340575e+06     1.340575e+06     1.340575e+06   \n",
       "mean   4.102563e+00       3.262764e-01     3.776337e+00     1.725934e-01   \n",
       "std    1.165389e+00       3.055112e-01     1.050318e+00     4.155742e-01   \n",
       "min    1.510000e+00       0.000000e+00     0.000000e+00     0.000000e+00   \n",
       "25%    3.360000e+00       7.000000e-02     3.100000e+00     0.000000e+00   \n",
       "50%    3.920000e+00       2.900000e-01     3.610000e+00     0.000000e+00   \n",
       "75%    4.610000e+00       4.900000e-01     4.240000e+00     1.400000e-01   \n",
       "max    1.199000e+01       1.050000e+01     1.199000e+01     9.420000e+00   \n",
       "\n",
       "       total_non_ctr     Hrs_NAtrn  \n",
       "count   1.340575e+06  1.340575e+06  \n",
       "mean    3.929973e+00  7.775059e-02  \n",
       "std     1.196992e+00  1.958824e-01  \n",
       "min     0.000000e+00  0.000000e+00  \n",
       "25%     3.170000e+00  0.000000e+00  \n",
       "50%     3.770000e+00  0.000000e+00  \n",
       "75%     4.480000e+00  0.000000e+00  \n",
       "max     1.199000e+01  4.550000e+00  "
      ]
     },
     "execution_count": 12,
     "metadata": {},
     "output_type": "execute_result"
    }
   ],
   "source": [
    "clean_all_df = drop_by_hours_per_person(all_nursing_df)\n",
    "clean_all_df[features].describe()"
   ]
  },
  {
   "cell_type": "code",
   "execution_count": 13,
   "id": "4af9d01a",
   "metadata": {},
   "outputs": [],
   "source": [
    "# ensign_nn_df = non_nursing_df[non_nursing_df[\"IsEnsign\"] == True]\n",
    "# ensign_nn_df.head()"
   ]
  },
  {
   "cell_type": "code",
   "execution_count": 14,
   "id": "f6f52eca",
   "metadata": {},
   "outputs": [
    {
     "data": {
      "text/html": [
       "<div>\n",
       "<style scoped>\n",
       "    .dataframe tbody tr th:only-of-type {\n",
       "        vertical-align: middle;\n",
       "    }\n",
       "\n",
       "    .dataframe tbody tr th {\n",
       "        vertical-align: top;\n",
       "    }\n",
       "\n",
       "    .dataframe thead th {\n",
       "        text-align: right;\n",
       "    }\n",
       "</style>\n",
       "<table border=\"1\" class=\"dataframe\">\n",
       "  <thead>\n",
       "    <tr style=\"text-align: right;\">\n",
       "      <th></th>\n",
       "      <th>PROVNUM</th>\n",
       "      <th>PROVNAME</th>\n",
       "      <th>CITY</th>\n",
       "      <th>STATE</th>\n",
       "      <th>COUNTY_NAME</th>\n",
       "      <th>COUNTY_FIPS</th>\n",
       "      <th>CY_Qtr</th>\n",
       "      <th>WorkDate</th>\n",
       "      <th>MDScensus</th>\n",
       "      <th>Hrs_RNDON</th>\n",
       "      <th>...</th>\n",
       "      <th>day</th>\n",
       "      <th>day_name</th>\n",
       "      <th>is_weekend</th>\n",
       "      <th>is_holiday_week</th>\n",
       "      <th>IsEnsign</th>\n",
       "      <th>total_hours</th>\n",
       "      <th>total_admin_hours</th>\n",
       "      <th>total_non_admin</th>\n",
       "      <th>total_ctr_hours</th>\n",
       "      <th>total_non_ctr</th>\n",
       "    </tr>\n",
       "  </thead>\n",
       "  <tbody>\n",
       "    <tr>\n",
       "      <th>34224</th>\n",
       "      <td>35297</td>\n",
       "      <td>SURPRISE HEALTH AND REHABILITATION CENTER</td>\n",
       "      <td>SURPRISE</td>\n",
       "      <td>AZ</td>\n",
       "      <td>Maricopa</td>\n",
       "      <td>13</td>\n",
       "      <td>2020Q4</td>\n",
       "      <td>2020-10-01</td>\n",
       "      <td>78</td>\n",
       "      <td>0.10</td>\n",
       "      <td>...</td>\n",
       "      <td>1</td>\n",
       "      <td>Thursday</td>\n",
       "      <td>False</td>\n",
       "      <td>False</td>\n",
       "      <td>True</td>\n",
       "      <td>5.14</td>\n",
       "      <td>0.41</td>\n",
       "      <td>4.73</td>\n",
       "      <td>0.46</td>\n",
       "      <td>4.68</td>\n",
       "    </tr>\n",
       "    <tr>\n",
       "      <th>34225</th>\n",
       "      <td>35297</td>\n",
       "      <td>SURPRISE HEALTH AND REHABILITATION CENTER</td>\n",
       "      <td>SURPRISE</td>\n",
       "      <td>AZ</td>\n",
       "      <td>Maricopa</td>\n",
       "      <td>13</td>\n",
       "      <td>2020Q4</td>\n",
       "      <td>2020-10-02</td>\n",
       "      <td>72</td>\n",
       "      <td>0.11</td>\n",
       "      <td>...</td>\n",
       "      <td>2</td>\n",
       "      <td>Friday</td>\n",
       "      <td>False</td>\n",
       "      <td>False</td>\n",
       "      <td>True</td>\n",
       "      <td>5.70</td>\n",
       "      <td>0.44</td>\n",
       "      <td>5.26</td>\n",
       "      <td>0.65</td>\n",
       "      <td>5.06</td>\n",
       "    </tr>\n",
       "    <tr>\n",
       "      <th>34226</th>\n",
       "      <td>35297</td>\n",
       "      <td>SURPRISE HEALTH AND REHABILITATION CENTER</td>\n",
       "      <td>SURPRISE</td>\n",
       "      <td>AZ</td>\n",
       "      <td>Maricopa</td>\n",
       "      <td>13</td>\n",
       "      <td>2020Q4</td>\n",
       "      <td>2020-10-03</td>\n",
       "      <td>72</td>\n",
       "      <td>0.00</td>\n",
       "      <td>...</td>\n",
       "      <td>3</td>\n",
       "      <td>Saturday</td>\n",
       "      <td>True</td>\n",
       "      <td>False</td>\n",
       "      <td>True</td>\n",
       "      <td>4.54</td>\n",
       "      <td>0.00</td>\n",
       "      <td>4.54</td>\n",
       "      <td>0.81</td>\n",
       "      <td>3.73</td>\n",
       "    </tr>\n",
       "    <tr>\n",
       "      <th>34227</th>\n",
       "      <td>35297</td>\n",
       "      <td>SURPRISE HEALTH AND REHABILITATION CENTER</td>\n",
       "      <td>SURPRISE</td>\n",
       "      <td>AZ</td>\n",
       "      <td>Maricopa</td>\n",
       "      <td>13</td>\n",
       "      <td>2020Q4</td>\n",
       "      <td>2020-10-04</td>\n",
       "      <td>75</td>\n",
       "      <td>0.00</td>\n",
       "      <td>...</td>\n",
       "      <td>4</td>\n",
       "      <td>Sunday</td>\n",
       "      <td>True</td>\n",
       "      <td>False</td>\n",
       "      <td>True</td>\n",
       "      <td>4.06</td>\n",
       "      <td>0.00</td>\n",
       "      <td>4.06</td>\n",
       "      <td>0.57</td>\n",
       "      <td>3.49</td>\n",
       "    </tr>\n",
       "    <tr>\n",
       "      <th>34228</th>\n",
       "      <td>35297</td>\n",
       "      <td>SURPRISE HEALTH AND REHABILITATION CENTER</td>\n",
       "      <td>SURPRISE</td>\n",
       "      <td>AZ</td>\n",
       "      <td>Maricopa</td>\n",
       "      <td>13</td>\n",
       "      <td>2020Q4</td>\n",
       "      <td>2020-10-05</td>\n",
       "      <td>73</td>\n",
       "      <td>0.11</td>\n",
       "      <td>...</td>\n",
       "      <td>5</td>\n",
       "      <td>Monday</td>\n",
       "      <td>False</td>\n",
       "      <td>False</td>\n",
       "      <td>True</td>\n",
       "      <td>5.00</td>\n",
       "      <td>0.44</td>\n",
       "      <td>4.56</td>\n",
       "      <td>0.22</td>\n",
       "      <td>4.78</td>\n",
       "    </tr>\n",
       "  </tbody>\n",
       "</table>\n",
       "<p>5 rows × 45 columns</p>\n",
       "</div>"
      ],
      "text/plain": [
       "      PROVNUM                                   PROVNAME      CITY STATE  \\\n",
       "34224   35297  SURPRISE HEALTH AND REHABILITATION CENTER  SURPRISE    AZ   \n",
       "34225   35297  SURPRISE HEALTH AND REHABILITATION CENTER  SURPRISE    AZ   \n",
       "34226   35297  SURPRISE HEALTH AND REHABILITATION CENTER  SURPRISE    AZ   \n",
       "34227   35297  SURPRISE HEALTH AND REHABILITATION CENTER  SURPRISE    AZ   \n",
       "34228   35297  SURPRISE HEALTH AND REHABILITATION CENTER  SURPRISE    AZ   \n",
       "\n",
       "      COUNTY_NAME  COUNTY_FIPS  CY_Qtr   WorkDate  MDScensus  Hrs_RNDON  ...  \\\n",
       "34224    Maricopa           13  2020Q4 2020-10-01         78       0.10  ...   \n",
       "34225    Maricopa           13  2020Q4 2020-10-02         72       0.11  ...   \n",
       "34226    Maricopa           13  2020Q4 2020-10-03         72       0.00  ...   \n",
       "34227    Maricopa           13  2020Q4 2020-10-04         75       0.00  ...   \n",
       "34228    Maricopa           13  2020Q4 2020-10-05         73       0.11  ...   \n",
       "\n",
       "       day  day_name  is_weekend  is_holiday_week  IsEnsign  total_hours  \\\n",
       "34224    1  Thursday       False            False      True         5.14   \n",
       "34225    2    Friday       False            False      True         5.70   \n",
       "34226    3  Saturday        True            False      True         4.54   \n",
       "34227    4    Sunday        True            False      True         4.06   \n",
       "34228    5    Monday       False            False      True         5.00   \n",
       "\n",
       "       total_admin_hours  total_non_admin  total_ctr_hours  total_non_ctr  \n",
       "34224               0.41             4.73             0.46           4.68  \n",
       "34225               0.44             5.26             0.65           5.06  \n",
       "34226               0.00             4.54             0.81           3.73  \n",
       "34227               0.00             4.06             0.57           3.49  \n",
       "34228               0.44             4.56             0.22           4.78  \n",
       "\n",
       "[5 rows x 45 columns]"
      ]
     },
     "execution_count": 14,
     "metadata": {},
     "output_type": "execute_result"
    }
   ],
   "source": [
    "ensign_nurse_df = clean_all_df[clean_all_df[\"IsEnsign\"] == True]\n",
    "ensign_nurse_df.head()"
   ]
  },
  {
   "cell_type": "code",
   "execution_count": 248,
   "id": "c32571fb",
   "metadata": {},
   "outputs": [
    {
     "data": {
      "image/png": "[encoded data removed]",
      "text/plain": [
       "<Figure size 1080x432 with 3 Axes>"
      ]
     },
     "metadata": {},
     "output_type": "display_data"
    }
   ],
   "source": [
    "fig, axes = plt.subplots(1, 3, figsize=(15,6))\n",
    "ensign_per_patient_df.boxplot(column='MDScensus', ax=axes[0])\n",
    "ensign_high_hour.boxplot(column='MDScensus', ax=axes[1])\n",
    "ensign_low_hour.boxplot(column='MDScensus', ax=axes[2])\n",
    "axes[0].set_title('All Ensign Records')\n",
    "axes[1].set_title('Ensign High Nurse Staff Hours')\n",
    "axes[2].set_title('Ensign Low Nurse Staff Hours')\n",
    "axes[0].set_ylabel('Census');"
   ]
  },
  {
   "cell_type": "code",
   "execution_count": null,
   "id": "b4129962",
   "metadata": {},
   "outputs": [],
   "source": []
  },
  {
   "cell_type": "code",
   "execution_count": 17,
   "id": "9b6be3ef",
   "metadata": {},
   "outputs": [],
   "source": [
    "exist_pv = ensign_nurse_df[\"PROVNUM\"].unique().astype('int32').squeeze().tolist()\n",
    "non_exist_pv = []\n",
    "for num in prov_nums:\n",
    "    if num not in exist_pv:\n",
    "        non_exist_pv.append(num)"
   ]
  },
  {
   "cell_type": "code",
   "execution_count": 18,
   "id": "0f44422f",
   "metadata": {},
   "outputs": [
    {
     "data": {
      "text/plain": [
       "True"
      ]
     },
     "execution_count": 18,
     "metadata": {},
     "output_type": "execute_result"
    }
   ],
   "source": [
    "len(non_exist_pv) + len(exist_pv) == len(prov_nums)"
   ]
  },
  {
   "cell_type": "code",
   "execution_count": 19,
   "id": "979de1b7",
   "metadata": {},
   "outputs": [],
   "source": [
    "# ensign_nurse_df.to_csv(r'C:\\Users\\hua13\\Google Drive\\Ensign\\ensign_nurse_df.csv', index=False, header=True)\n",
    "# ensign_nn_df.to_csv(r'C:\\Users\\hua13\\Google Drive\\Ensign\\ensign_nn_df.csv', index=False, header=True)\n",
    "\n",
    "# clean_all_df.to_csv(r'C:\\Users\\hua13\\Google Drive\\Ensign\\all_nurse_df.csv', index=False, header=True)\n",
    "# non_nursing_df.to_csv(r'C:\\Users\\hua13\\Google Drive\\Ensign\\all_nn_df.csv', index=False, header=True)"
   ]
  }
 ],
 "metadata": {
  "kernelspec": {
   "display_name": "Python 3",
   "language": "python",
   "name": "python3"
  },
  "language_info": {
   "codemirror_mode": {
    "name": "ipython",
    "version": 3
   },
   "file_extension": ".py",
   "mimetype": "text/x-python",
   "name": "python",
   "nbconvert_exporter": "python",
   "pygments_lexer": "ipython3",
   "version": "3.8.8"
  }
 },
 "nbformat": 4,
 "nbformat_minor": 5
}
